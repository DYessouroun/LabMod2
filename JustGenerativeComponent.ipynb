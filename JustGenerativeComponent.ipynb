{
 "cells": [
  {
   "cell_type": "markdown",
   "metadata": {},
   "source": [
    "# Ambiente"
   ]
  },
  {
   "cell_type": "markdown",
   "metadata": {},
   "source": [
    "## Instalar Librerías"
   ]
  },
  {
   "cell_type": "code",
   "execution_count": 1,
   "metadata": {},
   "outputs": [],
   "source": [
    "# pip install --user -r ./requirements.txt -q"
   ]
  },
  {
   "cell_type": "code",
   "execution_count": 2,
   "metadata": {},
   "outputs": [],
   "source": [
    "# pip show langchain"
   ]
  },
  {
   "cell_type": "code",
   "execution_count": 3,
   "metadata": {},
   "outputs": [],
   "source": [
    "# pip install --upgrade langchain -q"
   ]
  },
  {
   "cell_type": "markdown",
   "metadata": {},
   "source": [
    "## Configurar dotenv"
   ]
  },
  {
   "cell_type": "code",
   "execution_count": 28,
   "metadata": {},
   "outputs": [
    {
     "data": {
      "text/plain": [
       "True"
      ]
     },
     "execution_count": 28,
     "metadata": {},
     "output_type": "execute_result"
    }
   ],
   "source": [
    "import os\n",
    "from dotenv import load_dotenv, find_dotenv\n",
    "load_dotenv(find_dotenv(), override=True)"
   ]
  },
  {
   "cell_type": "markdown",
   "metadata": {},
   "source": [
    "## Imports"
   ]
  },
  {
   "cell_type": "code",
   "execution_count": 5,
   "metadata": {},
   "outputs": [],
   "source": [
    "import pandas as pd\n",
    "import numpy as np\n",
    "import time\n",
    "# Creación de domuentos\n",
    "from langchain_core.documents import Document\n",
    "\n",
    "# Crear índice en pinecone\n",
    "from pinecone import Pinecone\n",
    "from pinecone import ServerlessSpec\n",
    "\n",
    "# Encodear y guardar documentos\n",
    "from langchain_openai import OpenAIEmbeddings\n",
    "from langchain_pinecone import PineconeVectorStore\n",
    "\n",
    "# Chain respuesta a query\n",
    "from langchain.chains import create_retrieval_chain\n",
    "from langchain.chains.combine_documents import create_stuff_documents_chain\n",
    "from langchain_core.prompts import ChatPromptTemplate\n",
    "from langchain_openai import ChatOpenAI\n",
    "\n",
    "# Vectorización\n",
    "from concurrent.futures import ThreadPoolExecutor\n",
    "\n",
    "import matplotlib.pyplot as plt\n",
    "import seaborn as sns"
   ]
  },
  {
   "cell_type": "code",
   "execution_count": 7,
   "metadata": {},
   "outputs": [],
   "source": [
    "# model_llm = \"gpt-3.5-turbo\"\n",
    "model_llm = 'gpt-4o'"
   ]
  },
  {
   "cell_type": "markdown",
   "metadata": {},
   "source": [
    "# Documento"
   ]
  },
  {
   "cell_type": "code",
   "execution_count": 8,
   "metadata": {},
   "outputs": [],
   "source": [
    "df_documentos = pd.read_excel('FAQS Preguntas frecuentes Abril 2024-1.xlsx', engine='openpyxl')\n",
    "columnas = df_documentos.columns\n",
    "df_documentos[columnas[0]] = df_documentos[columnas[0]].ffill()"
   ]
  },
  {
   "cell_type": "code",
   "execution_count": 9,
   "metadata": {},
   "outputs": [
    {
     "data": {
      "text/html": [
       "<div>\n",
       "<style scoped>\n",
       "    .dataframe tbody tr th:only-of-type {\n",
       "        vertical-align: middle;\n",
       "    }\n",
       "\n",
       "    .dataframe tbody tr th {\n",
       "        vertical-align: top;\n",
       "    }\n",
       "\n",
       "    .dataframe thead th {\n",
       "        text-align: right;\n",
       "    }\n",
       "</style>\n",
       "<table border=\"1\" class=\"dataframe\">\n",
       "  <thead>\n",
       "    <tr style=\"text-align: right;\">\n",
       "      <th></th>\n",
       "      <th>Catalogo de respuestas frecuentes</th>\n",
       "      <th>PREGUNTA FRECUENTE</th>\n",
       "      <th>Respuesta Chat GPT</th>\n",
       "    </tr>\n",
       "  </thead>\n",
       "  <tbody>\n",
       "    <tr>\n",
       "      <th>0</th>\n",
       "      <td>Portal de Servicios en Línea</td>\n",
       "      <td>¿Cómo accedo al portal de Servicios en Línea?</td>\n",
       "      <td>🌟 ¡Hola! Estamos encantados de que estés aquí....</td>\n",
       "    </tr>\n",
       "    <tr>\n",
       "      <th>1</th>\n",
       "      <td>Portal de Servicios en Línea</td>\n",
       "      <td>¿Cómo puedo consultar el Boletín / Boleta de C...</td>\n",
       "      <td>🌟 ¡Hola! Estamos emocionados de poder ayudarte...</td>\n",
       "    </tr>\n",
       "    <tr>\n",
       "      <th>2</th>\n",
       "      <td>Portal de Servicios en Línea</td>\n",
       "      <td>¿Cómo puedo consultar mi Horario?</td>\n",
       "      <td>🌟 ¡Hola! ¡Estamos aquí para ayudarte! 😊 Si nec...</td>\n",
       "    </tr>\n",
       "    <tr>\n",
       "      <th>3</th>\n",
       "      <td>Portal de Servicios en Línea</td>\n",
       "      <td>¿Cómo puedo recuperar mi contraseña de acceso ...</td>\n",
       "      <td>🌟 ¡Hola! Si necesitas recuperar tu contraseña,...</td>\n",
       "    </tr>\n",
       "    <tr>\n",
       "      <th>4</th>\n",
       "      <td>Becas</td>\n",
       "      <td>¿Cómo accedo al portal de Becas?</td>\n",
       "      <td>🌟 ¡Hola! Estamos encantados de ayudarte. 😊 Par...</td>\n",
       "    </tr>\n",
       "    <tr>\n",
       "      <th>5</th>\n",
       "      <td>Becas</td>\n",
       "      <td>¿Cómo puedo consultar mi dictamen?</td>\n",
       "      <td>📧 Recibirás una notificación en tu correo inst...</td>\n",
       "    </tr>\n",
       "    <tr>\n",
       "      <th>6</th>\n",
       "      <td>Becas</td>\n",
       "      <td>¿Cómo registrar un caso especial de beca?</td>\n",
       "      <td>🎓 Para solicitar una beca por caso especial, s...</td>\n",
       "    </tr>\n",
       "    <tr>\n",
       "      <th>7</th>\n",
       "      <td>Becas</td>\n",
       "      <td>¿Cómo puedo recuperar mi contraseña de acceso ...</td>\n",
       "      <td>🔒 Si olvidaste tu contraseña, no te preocupes....</td>\n",
       "    </tr>\n",
       "    <tr>\n",
       "      <th>8</th>\n",
       "      <td>Becas</td>\n",
       "      <td>¿Cuál es el promedio mínimo para conservar la ...</td>\n",
       "      <td>🎓 Para licenciatura, es importante mantener un...</td>\n",
       "    </tr>\n",
       "    <tr>\n",
       "      <th>9</th>\n",
       "      <td>Becas</td>\n",
       "      <td>¿Cuáles son los requisitos del proceso de reno...</td>\n",
       "      <td>📝 El proceso de renovación de beca consta de d...</td>\n",
       "    </tr>\n",
       "    <tr>\n",
       "      <th>10</th>\n",
       "      <td>ADN Lince</td>\n",
       "      <td>¿Cómo ingreso a los cuestionarios ADN Lince?</td>\n",
       "      <td>🌟 Simplemente haz clic sobre el nombre de la a...</td>\n",
       "    </tr>\n",
       "    <tr>\n",
       "      <th>11</th>\n",
       "      <td>ADN Lince</td>\n",
       "      <td>¿Cómo realizo la carga de mi evidencia ADN lin...</td>\n",
       "      <td>Para completar los cuestionarios, asegúrate de...</td>\n",
       "    </tr>\n",
       "  </tbody>\n",
       "</table>\n",
       "</div>"
      ],
      "text/plain": [
       "   Catalogo de respuestas frecuentes  \\\n",
       "0       Portal de Servicios en Línea   \n",
       "1       Portal de Servicios en Línea   \n",
       "2       Portal de Servicios en Línea   \n",
       "3       Portal de Servicios en Línea   \n",
       "4                              Becas   \n",
       "5                              Becas   \n",
       "6                              Becas   \n",
       "7                              Becas   \n",
       "8                              Becas   \n",
       "9                              Becas   \n",
       "10                         ADN Lince   \n",
       "11                         ADN Lince   \n",
       "\n",
       "                                   PREGUNTA FRECUENTE  \\\n",
       "0       ¿Cómo accedo al portal de Servicios en Línea?   \n",
       "1   ¿Cómo puedo consultar el Boletín / Boleta de C...   \n",
       "2                   ¿Cómo puedo consultar mi Horario?   \n",
       "3   ¿Cómo puedo recuperar mi contraseña de acceso ...   \n",
       "4                    ¿Cómo accedo al portal de Becas?   \n",
       "5                  ¿Cómo puedo consultar mi dictamen?   \n",
       "6           ¿Cómo registrar un caso especial de beca?   \n",
       "7   ¿Cómo puedo recuperar mi contraseña de acceso ...   \n",
       "8   ¿Cuál es el promedio mínimo para conservar la ...   \n",
       "9   ¿Cuáles son los requisitos del proceso de reno...   \n",
       "10       ¿Cómo ingreso a los cuestionarios ADN Lince?   \n",
       "11  ¿Cómo realizo la carga de mi evidencia ADN lin...   \n",
       "\n",
       "                                   Respuesta Chat GPT  \n",
       "0   🌟 ¡Hola! Estamos encantados de que estés aquí....  \n",
       "1   🌟 ¡Hola! Estamos emocionados de poder ayudarte...  \n",
       "2   🌟 ¡Hola! ¡Estamos aquí para ayudarte! 😊 Si nec...  \n",
       "3   🌟 ¡Hola! Si necesitas recuperar tu contraseña,...  \n",
       "4   🌟 ¡Hola! Estamos encantados de ayudarte. 😊 Par...  \n",
       "5   📧 Recibirás una notificación en tu correo inst...  \n",
       "6   🎓 Para solicitar una beca por caso especial, s...  \n",
       "7   🔒 Si olvidaste tu contraseña, no te preocupes....  \n",
       "8   🎓 Para licenciatura, es importante mantener un...  \n",
       "9   📝 El proceso de renovación de beca consta de d...  \n",
       "10  🌟 Simplemente haz clic sobre el nombre de la a...  \n",
       "11  Para completar los cuestionarios, asegúrate de...  "
      ]
     },
     "execution_count": 9,
     "metadata": {},
     "output_type": "execute_result"
    }
   ],
   "source": [
    "df_documentos.head(12)"
   ]
  },
  {
   "cell_type": "markdown",
   "metadata": {},
   "source": [
    "# Generar Respuesta"
   ]
  },
  {
   "cell_type": "code",
   "execution_count": 10,
   "metadata": {},
   "outputs": [],
   "source": [
    "# No podemos entregarle el documento completo por escrito a la API debido al máximo de tokens, por lo que solo considerermos las primeras filas\n",
    "sub_df = 100"
   ]
  },
  {
   "cell_type": "code",
   "execution_count": 11,
   "metadata": {},
   "outputs": [],
   "source": [
    "# Generar el contexto a partir del DataFrame\n",
    "contexto = \"\"\n",
    "for _, row in df_documentos[:sub_df].iterrows():\n",
    "    contexto += f\"Categoría: {row['Catalogo de respuestas frecuentes']}\\nPregunta: {row['PREGUNTA FRECUENTE']}\\nRespuesta: {row['Respuesta Chat GPT']}\\n\\n\""
   ]
  },
  {
   "cell_type": "code",
   "execution_count": 12,
   "metadata": {},
   "outputs": [],
   "source": [
    "from openai import OpenAI\n",
    "client = OpenAI(\n",
    "    api_key=os.environ.get(\"OPENAI_API_KEY\"),\n",
    ")"
   ]
  },
  {
   "cell_type": "code",
   "execution_count": 13,
   "metadata": {},
   "outputs": [],
   "source": [
    "def obtener_respuesta(pregunta_nueva):    \n",
    "    respuesta = client.chat.completions.create(\n",
    "        model=model_llm,\n",
    "        messages = [\n",
    "        {\"role\": \"system\", \"content\": \"Eres un asistente útil que responde preguntas basadas en un conjunto de datos de preguntas y respuestas.\"},\n",
    "        {\"role\": \"user\", \"content\": contexto},\n",
    "        {\"role\": \"user\", \"content\": f\"Pregunta nueva: {pregunta_nueva}\\nRespuesta:\"}\n",
    "        ],\n",
    "        n=1,\n",
    "        temperature=1\n",
    "    )\n",
    "    \n",
    "    return respuesta.choices[0].message.content"
   ]
  },
  {
   "cell_type": "code",
   "execution_count": 14,
   "metadata": {},
   "outputs": [],
   "source": [
    "pregunta_nueva = \"Como recupero contra?\"\n",
    "respuesta = obtener_respuesta(pregunta_nueva)"
   ]
  },
  {
   "cell_type": "code",
   "execution_count": 15,
   "metadata": {},
   "outputs": [
    {
     "name": "stdout",
     "output_type": "stream",
     "text": [
      "Pregunta: Como recupero contra?\n",
      "Respuesta: ¡Hola! Para ayudarte mejor, necesitaría saber específicamente a qué plataforma o servicio te refieres (por ejemplo, Blackboard, correo institucional, portal de pagos, etc.). Sin embargo, aquí tienes una guía general para recuperar contraseñas:\n",
      "\n",
      "1. **Correo Institucional (my.uvm)**:\n",
      "   - Para restablecer tu contraseña de correo, es necesario que contactes a un Asistente Lince, ya que ellos tienen acceso y pueden guiarte en el proceso. Están disponibles las 24 horas del día, los 7 días de la semana.\n",
      "\n",
      "2. **Blackboard**:\n",
      "   - Ve a la página de inicio de sesión de Blackboard: [uvmonline.blackboard.com](https://uvmonline.blackboard.com/).\n",
      "   - Haz clic en \"¿Olvidaste tu contraseña?\".\n",
      "   - Ingresa tu información (nombre, apellidos en mayúsculas sin acentos, y tu correo institucional).\n",
      "   - Recibirás un correo en tu bandeja de entrada (no olvides revisar también el correo no deseado o SPAM) con un enlace para restablecer tu contraseña y seguir las instrucciones.\n",
      "\n",
      "3. **Portal de Servicios en Línea**:\n",
      "   - Ingresa al portal: [https://ventanillaservicios.uvmnet.edu/PortalServicios/](https://ventanillaservicios.uvmnet.edu/PortalServicios/).\n",
      "   - Selecciona \"Recupera Usuario y Contraseña\".\n",
      "   - Ingresa tu número de matrícula y haz clic en \"Aceptar\".\n",
      "   - Te mostrará el correo al cual se enviará un mensaje con tus accesos restablecidos.\n",
      "\n",
      "4. **Portal de Pago en Línea**:\n",
      "   - Comunícate con un Asistente Lince para que te ayuden a restablecer tu contraseña del portal de pago en línea.\n",
      "\n",
      "5. **Portal de Becas**:\n",
      "   - Ve al enlace: [https://becasuvm.laureate.mx/alumnos/index](https://becasuvm.laureate.mx/alumnos/index).\n",
      "   - Selecciona la opción \"¿Has olvidado tu contraseña?\" e ingresa el correo utilizado al registrar tu cuenta.\n",
      "   - Recibirás un mensaje en ese correo con la información necesaria para restablecer tu contraseña.\n",
      "\n",
      "Recuerda proporcionar detalles específicos de tu situación al Asistente Lince para recibir apoyo adecuado. ¡Espero que esta guía sea útil! 😊🔑\n"
     ]
    }
   ],
   "source": [
    "print(f\"Pregunta: {pregunta_nueva}\\nRespuesta: {respuesta}\")"
   ]
  },
  {
   "cell_type": "markdown",
   "metadata": {},
   "source": [
    "# Benchmark"
   ]
  },
  {
   "cell_type": "code",
   "execution_count": 16,
   "metadata": {},
   "outputs": [
    {
     "data": {
      "text/html": [
       "<div>\n",
       "<style scoped>\n",
       "    .dataframe tbody tr th:only-of-type {\n",
       "        vertical-align: middle;\n",
       "    }\n",
       "\n",
       "    .dataframe tbody tr th {\n",
       "        vertical-align: top;\n",
       "    }\n",
       "\n",
       "    .dataframe thead th {\n",
       "        text-align: right;\n",
       "    }\n",
       "</style>\n",
       "<table border=\"1\" class=\"dataframe\">\n",
       "  <thead>\n",
       "    <tr style=\"text-align: right;\">\n",
       "      <th></th>\n",
       "      <th>pregunta</th>\n",
       "      <th>Documento asociado</th>\n",
       "      <th>Pregunta_asociada</th>\n",
       "    </tr>\n",
       "  </thead>\n",
       "  <tbody>\n",
       "    <tr>\n",
       "      <th>0</th>\n",
       "      <td>como entrar portal online servicios?</td>\n",
       "      <td>0</td>\n",
       "      <td>¿Cómo accedo al portal de Servicios en Línea?</td>\n",
       "    </tr>\n",
       "    <tr>\n",
       "      <th>1</th>\n",
       "      <td>¿Cómo hacer para usar Servicios en Internet?</td>\n",
       "      <td>0</td>\n",
       "      <td>¿Cómo accedo al portal de Servicios en Línea?</td>\n",
       "    </tr>\n",
       "    <tr>\n",
       "      <th>2</th>\n",
       "      <td>¿Cómo se accede al portal de servicios de la UVM?</td>\n",
       "      <td>0</td>\n",
       "      <td>¿Cómo accedo al portal de Servicios en Línea?</td>\n",
       "    </tr>\n",
       "    <tr>\n",
       "      <th>3</th>\n",
       "      <td>¿Qué información se necesita para iniciar sesi...</td>\n",
       "      <td>0</td>\n",
       "      <td>¿Cómo accedo al portal de Servicios en Línea?</td>\n",
       "    </tr>\n",
       "    <tr>\n",
       "      <th>4</th>\n",
       "      <td>Como consutar calificaciones?</td>\n",
       "      <td>1</td>\n",
       "      <td>¿Cómo puedo consultar el Boletín / Boleta de C...</td>\n",
       "    </tr>\n",
       "  </tbody>\n",
       "</table>\n",
       "</div>"
      ],
      "text/plain": [
       "                                            pregunta  Documento asociado  \\\n",
       "0               como entrar portal online servicios?                   0   \n",
       "1       ¿Cómo hacer para usar Servicios en Internet?                   0   \n",
       "2  ¿Cómo se accede al portal de servicios de la UVM?                   0   \n",
       "3  ¿Qué información se necesita para iniciar sesi...                   0   \n",
       "4                      Como consutar calificaciones?                   1   \n",
       "\n",
       "                                   Pregunta_asociada  \n",
       "0      ¿Cómo accedo al portal de Servicios en Línea?  \n",
       "1      ¿Cómo accedo al portal de Servicios en Línea?  \n",
       "2      ¿Cómo accedo al portal de Servicios en Línea?  \n",
       "3      ¿Cómo accedo al portal de Servicios en Línea?  \n",
       "4  ¿Cómo puedo consultar el Boletín / Boleta de C...  "
      ]
     },
     "execution_count": 16,
     "metadata": {},
     "output_type": "execute_result"
    }
   ],
   "source": [
    "df_bench = pd.read_excel(\"benchmark.xlsx\")\n",
    "df_bench[\"Pregunta_asociada\"] = df_bench[\"Documento asociado\"].apply(lambda entero: df_documentos.iloc[entero][\"PREGUNTA FRECUENTE\"])\n",
    "df_bench.head()"
   ]
  },
  {
   "cell_type": "code",
   "execution_count": 17,
   "metadata": {},
   "outputs": [],
   "source": [
    "final_df = pd.DataFrame()\n",
    "\n",
    "for i in range(1, 11):\n",
    "    with ThreadPoolExecutor() as executor:\n",
    "        results = list(executor.map(obtener_respuesta, df_bench[int(4*sub_df*((i-1)/10)):int(4*sub_df*(i/10))][\"pregunta\"].tolist()))\n",
    "    contexts_answers_df = pd.DataFrame(results, columns=['answer'])\n",
    "    final_df = pd.concat([final_df, contexts_answers_df], ignore_index=True)\n",
    "    time.sleep(60) # porque se llega al máximo de tokens x minuto"
   ]
  },
  {
   "cell_type": "code",
   "execution_count": 18,
   "metadata": {},
   "outputs": [
    {
     "name": "stdout",
     "output_type": "stream",
     "text": [
      "(400, 1)\n"
     ]
    },
    {
     "data": {
      "text/html": [
       "<div>\n",
       "<style scoped>\n",
       "    .dataframe tbody tr th:only-of-type {\n",
       "        vertical-align: middle;\n",
       "    }\n",
       "\n",
       "    .dataframe tbody tr th {\n",
       "        vertical-align: top;\n",
       "    }\n",
       "\n",
       "    .dataframe thead th {\n",
       "        text-align: right;\n",
       "    }\n",
       "</style>\n",
       "<table border=\"1\" class=\"dataframe\">\n",
       "  <thead>\n",
       "    <tr style=\"text-align: right;\">\n",
       "      <th></th>\n",
       "      <th>answer</th>\n",
       "    </tr>\n",
       "  </thead>\n",
       "  <tbody>\n",
       "    <tr>\n",
       "      <th>395</th>\n",
       "      <td>Las clases en la plataforma generalmente comie...</td>\n",
       "    </tr>\n",
       "    <tr>\n",
       "      <th>396</th>\n",
       "      <td>Categoría: Asesoria y Soporte de Plataforma En...</td>\n",
       "    </tr>\n",
       "    <tr>\n",
       "      <th>397</th>\n",
       "      <td>🌟 No te preocupes, si tienes una materia carga...</td>\n",
       "    </tr>\n",
       "    <tr>\n",
       "      <th>398</th>\n",
       "      <td>Categoría: Asesoría y Soporte de Plataforma En...</td>\n",
       "    </tr>\n",
       "    <tr>\n",
       "      <th>399</th>\n",
       "      <td>Si no ves el nombre de tu profesor en la lista...</td>\n",
       "    </tr>\n",
       "  </tbody>\n",
       "</table>\n",
       "</div>"
      ],
      "text/plain": [
       "                                                answer\n",
       "395  Las clases en la plataforma generalmente comie...\n",
       "396  Categoría: Asesoria y Soporte de Plataforma En...\n",
       "397  🌟 No te preocupes, si tienes una materia carga...\n",
       "398  Categoría: Asesoría y Soporte de Plataforma En...\n",
       "399  Si no ves el nombre de tu profesor en la lista..."
      ]
     },
     "execution_count": 18,
     "metadata": {},
     "output_type": "execute_result"
    }
   ],
   "source": [
    "print(final_df.shape)\n",
    "final_df.tail()"
   ]
  },
  {
   "cell_type": "code",
   "execution_count": 19,
   "metadata": {},
   "outputs": [
    {
     "name": "stdout",
     "output_type": "stream",
     "text": [
      "(400, 5)\n"
     ]
    },
    {
     "data": {
      "text/html": [
       "<div>\n",
       "<style scoped>\n",
       "    .dataframe tbody tr th:only-of-type {\n",
       "        vertical-align: middle;\n",
       "    }\n",
       "\n",
       "    .dataframe tbody tr th {\n",
       "        vertical-align: top;\n",
       "    }\n",
       "\n",
       "    .dataframe thead th {\n",
       "        text-align: right;\n",
       "    }\n",
       "</style>\n",
       "<table border=\"1\" class=\"dataframe\">\n",
       "  <thead>\n",
       "    <tr style=\"text-align: right;\">\n",
       "      <th></th>\n",
       "      <th>pregunta</th>\n",
       "      <th>Documento asociado</th>\n",
       "      <th>Pregunta_asociada</th>\n",
       "      <th>answer</th>\n",
       "      <th>real_answer</th>\n",
       "    </tr>\n",
       "  </thead>\n",
       "  <tbody>\n",
       "    <tr>\n",
       "      <th>395</th>\n",
       "      <td>Cuando comienzan las clases en la plataforma?</td>\n",
       "      <td>101</td>\n",
       "      <td>¿Qué puedo hacer si no cuento con mi materia c...</td>\n",
       "      <td>Las clases en la plataforma generalmente comie...</td>\n",
       "      <td>Ten presente que podrás ver tu materia en la p...</td>\n",
       "    </tr>\n",
       "    <tr>\n",
       "      <th>396</th>\n",
       "      <td>¿Qué debo hacer si no encuentro mi materia?</td>\n",
       "      <td>101</td>\n",
       "      <td>¿Qué puedo hacer si no cuento con mi materia c...</td>\n",
       "      <td>Categoría: Asesoria y Soporte de Plataforma En...</td>\n",
       "      <td>Ten presente que podrás ver tu materia en la p...</td>\n",
       "    </tr>\n",
       "    <tr>\n",
       "      <th>397</th>\n",
       "      <td>Qué hacer si tengo materia cargada y no tengo ...</td>\n",
       "      <td>102</td>\n",
       "      <td>¿Qué puedo hacer si cuento con mi materia carg...</td>\n",
       "      <td>🌟 No te preocupes, si tienes una materia carga...</td>\n",
       "      <td>Queremos asegurarnos de que tengas todo listo ...</td>\n",
       "    </tr>\n",
       "    <tr>\n",
       "      <th>398</th>\n",
       "      <td>Qué hacer si materia cargada y no docente asig...</td>\n",
       "      <td>102</td>\n",
       "      <td>¿Qué puedo hacer si cuento con mi materia carg...</td>\n",
       "      <td>Categoría: Asesoría y Soporte de Plataforma En...</td>\n",
       "      <td>Queremos asegurarnos de que tengas todo listo ...</td>\n",
       "    </tr>\n",
       "    <tr>\n",
       "      <th>399</th>\n",
       "      <td>¿Qué debo hacer si no veo el nombre de mi prof...</td>\n",
       "      <td>102</td>\n",
       "      <td>¿Qué puedo hacer si cuento con mi materia carg...</td>\n",
       "      <td>Si no ves el nombre de tu profesor en la lista...</td>\n",
       "      <td>Queremos asegurarnos de que tengas todo listo ...</td>\n",
       "    </tr>\n",
       "  </tbody>\n",
       "</table>\n",
       "</div>"
      ],
      "text/plain": [
       "                                              pregunta  Documento asociado  \\\n",
       "395      Cuando comienzan las clases en la plataforma?                 101   \n",
       "396        ¿Qué debo hacer si no encuentro mi materia?                 101   \n",
       "397  Qué hacer si tengo materia cargada y no tengo ...                 102   \n",
       "398  Qué hacer si materia cargada y no docente asig...                 102   \n",
       "399  ¿Qué debo hacer si no veo el nombre de mi prof...                 102   \n",
       "\n",
       "                                     Pregunta_asociada  \\\n",
       "395  ¿Qué puedo hacer si no cuento con mi materia c...   \n",
       "396  ¿Qué puedo hacer si no cuento con mi materia c...   \n",
       "397  ¿Qué puedo hacer si cuento con mi materia carg...   \n",
       "398  ¿Qué puedo hacer si cuento con mi materia carg...   \n",
       "399  ¿Qué puedo hacer si cuento con mi materia carg...   \n",
       "\n",
       "                                                answer  \\\n",
       "395  Las clases en la plataforma generalmente comie...   \n",
       "396  Categoría: Asesoria y Soporte de Plataforma En...   \n",
       "397  🌟 No te preocupes, si tienes una materia carga...   \n",
       "398  Categoría: Asesoría y Soporte de Plataforma En...   \n",
       "399  Si no ves el nombre de tu profesor en la lista...   \n",
       "\n",
       "                                           real_answer  \n",
       "395  Ten presente que podrás ver tu materia en la p...  \n",
       "396  Ten presente que podrás ver tu materia en la p...  \n",
       "397  Queremos asegurarnos de que tengas todo listo ...  \n",
       "398  Queremos asegurarnos de que tengas todo listo ...  \n",
       "399  Queremos asegurarnos de que tengas todo listo ...  "
      ]
     },
     "execution_count": 19,
     "metadata": {},
     "output_type": "execute_result"
    }
   ],
   "source": [
    "df_bench = df_bench[:4*sub_df]\n",
    "df_bench[['answer']] = final_df\n",
    "df_bench[\"real_answer\"] = df_bench[\"pregunta\"].apply(lambda query: df_documentos.loc[df_documentos[\"PREGUNTA FRECUENTE\"]==df_bench.loc[df_bench[\"pregunta\"]==query,\"Pregunta_asociada\"].values[0],\"Respuesta Chat GPT\"].values[0])\n",
    "\n",
    "print(df_bench.shape)\n",
    "df_bench.tail()"
   ]
  },
  {
   "cell_type": "code",
   "execution_count": 20,
   "metadata": {},
   "outputs": [],
   "source": [
    "from transformers import BertTokenizer, BertModel\n",
    "import torch\n",
    "import numpy as np\n",
    "\n",
    "tokenizer = BertTokenizer.from_pretrained('bert-base-uncased')\n",
    "model = BertModel.from_pretrained('bert-base-uncased')\n",
    "\n",
    "def embed_text(text, tokenizer, model):\n",
    "    inputs = tokenizer(text, return_tensors='pt', truncation=True, padding=True, max_length=512)\n",
    "    with torch.no_grad():\n",
    "        outputs = model(**inputs)\n",
    "    return outputs.last_hidden_state.mean(dim=1)\n",
    "\n",
    "generated_responses = df_bench['answer'].tolist()\n",
    "reference_responses = df_bench['real_answer'].tolist()\n",
    "\n",
    "generated_embeddings = [embed_text(resp, tokenizer, model) for resp in generated_responses]\n",
    "reference_embeddings = [embed_text(resp, tokenizer, model) for resp in reference_responses]\n",
    "\n",
    "cos = torch.nn.CosineSimilarity(dim=1, eps=1e-6)\n",
    "similarities = [cos(g, r).item() for g, r in zip(generated_embeddings, reference_embeddings)]"
   ]
  },
  {
   "cell_type": "code",
   "execution_count": 21,
   "metadata": {},
   "outputs": [
    {
     "data": {
      "text/html": [
       "<div>\n",
       "<style scoped>\n",
       "    .dataframe tbody tr th:only-of-type {\n",
       "        vertical-align: middle;\n",
       "    }\n",
       "\n",
       "    .dataframe tbody tr th {\n",
       "        vertical-align: top;\n",
       "    }\n",
       "\n",
       "    .dataframe thead th {\n",
       "        text-align: right;\n",
       "    }\n",
       "</style>\n",
       "<table border=\"1\" class=\"dataframe\">\n",
       "  <thead>\n",
       "    <tr style=\"text-align: right;\">\n",
       "      <th></th>\n",
       "      <th>pregunta</th>\n",
       "      <th>Documento asociado</th>\n",
       "      <th>Pregunta_asociada</th>\n",
       "      <th>answer</th>\n",
       "      <th>real_answer</th>\n",
       "      <th>Similarities</th>\n",
       "    </tr>\n",
       "  </thead>\n",
       "  <tbody>\n",
       "    <tr>\n",
       "      <th>0</th>\n",
       "      <td>como entrar portal online servicios?</td>\n",
       "      <td>0</td>\n",
       "      <td>¿Cómo accedo al portal de Servicios en Línea?</td>\n",
       "      <td>🌟 ¡Hola! Para acceder al portal de Servicios e...</td>\n",
       "      <td>🌟 ¡Hola! Estamos encantados de que estés aquí....</td>\n",
       "      <td>0.974833</td>\n",
       "    </tr>\n",
       "    <tr>\n",
       "      <th>1</th>\n",
       "      <td>¿Cómo hacer para usar Servicios en Internet?</td>\n",
       "      <td>0</td>\n",
       "      <td>¿Cómo accedo al portal de Servicios en Línea?</td>\n",
       "      <td>🌟 ¡Hola! Usar los Servicios en Internet es muy...</td>\n",
       "      <td>🌟 ¡Hola! Estamos encantados de que estés aquí....</td>\n",
       "      <td>0.954852</td>\n",
       "    </tr>\n",
       "    <tr>\n",
       "      <th>2</th>\n",
       "      <td>¿Cómo se accede al portal de servicios de la UVM?</td>\n",
       "      <td>0</td>\n",
       "      <td>¿Cómo accedo al portal de Servicios en Línea?</td>\n",
       "      <td>Categoría: Portal de Servicios en Línea\\n\\nPre...</td>\n",
       "      <td>🌟 ¡Hola! Estamos encantados de que estés aquí....</td>\n",
       "      <td>0.981661</td>\n",
       "    </tr>\n",
       "    <tr>\n",
       "      <th>3</th>\n",
       "      <td>¿Qué información se necesita para iniciar sesi...</td>\n",
       "      <td>0</td>\n",
       "      <td>¿Cómo accedo al portal de Servicios en Línea?</td>\n",
       "      <td>Para iniciar sesión en el portal de Servicios ...</td>\n",
       "      <td>🌟 ¡Hola! Estamos encantados de que estés aquí....</td>\n",
       "      <td>0.974489</td>\n",
       "    </tr>\n",
       "    <tr>\n",
       "      <th>4</th>\n",
       "      <td>Como consutar calificaciones?</td>\n",
       "      <td>1</td>\n",
       "      <td>¿Cómo puedo consultar el Boletín / Boleta de C...</td>\n",
       "      <td>Categoría: Portal de Servicios en Línea\\nPregu...</td>\n",
       "      <td>🌟 ¡Hola! Estamos emocionados de poder ayudarte...</td>\n",
       "      <td>0.996288</td>\n",
       "    </tr>\n",
       "  </tbody>\n",
       "</table>\n",
       "</div>"
      ],
      "text/plain": [
       "                                            pregunta  Documento asociado  \\\n",
       "0               como entrar portal online servicios?                   0   \n",
       "1       ¿Cómo hacer para usar Servicios en Internet?                   0   \n",
       "2  ¿Cómo se accede al portal de servicios de la UVM?                   0   \n",
       "3  ¿Qué información se necesita para iniciar sesi...                   0   \n",
       "4                      Como consutar calificaciones?                   1   \n",
       "\n",
       "                                   Pregunta_asociada  \\\n",
       "0      ¿Cómo accedo al portal de Servicios en Línea?   \n",
       "1      ¿Cómo accedo al portal de Servicios en Línea?   \n",
       "2      ¿Cómo accedo al portal de Servicios en Línea?   \n",
       "3      ¿Cómo accedo al portal de Servicios en Línea?   \n",
       "4  ¿Cómo puedo consultar el Boletín / Boleta de C...   \n",
       "\n",
       "                                              answer  \\\n",
       "0  🌟 ¡Hola! Para acceder al portal de Servicios e...   \n",
       "1  🌟 ¡Hola! Usar los Servicios en Internet es muy...   \n",
       "2  Categoría: Portal de Servicios en Línea\\n\\nPre...   \n",
       "3  Para iniciar sesión en el portal de Servicios ...   \n",
       "4  Categoría: Portal de Servicios en Línea\\nPregu...   \n",
       "\n",
       "                                         real_answer  Similarities  \n",
       "0  🌟 ¡Hola! Estamos encantados de que estés aquí....      0.974833  \n",
       "1  🌟 ¡Hola! Estamos encantados de que estés aquí....      0.954852  \n",
       "2  🌟 ¡Hola! Estamos encantados de que estés aquí....      0.981661  \n",
       "3  🌟 ¡Hola! Estamos encantados de que estés aquí....      0.974489  \n",
       "4  🌟 ¡Hola! Estamos emocionados de poder ayudarte...      0.996288  "
      ]
     },
     "execution_count": 21,
     "metadata": {},
     "output_type": "execute_result"
    }
   ],
   "source": [
    "df_bench['Similarities'] = similarities\n",
    "df_bench.head()"
   ]
  },
  {
   "cell_type": "markdown",
   "metadata": {},
   "source": [
    "Ahora comparamos con las generadas por RAG"
   ]
  },
  {
   "cell_type": "code",
   "execution_count": 22,
   "metadata": {},
   "outputs": [],
   "source": [
    "df_ragas = pd.read_csv(f'df_ragas/df_ragas_text-embedding-3-large_{model_llm}.csv', sep=',')\n",
    "df_ragas.rename(columns={'question': 'pregunta'}, inplace=True)\n",
    "df_ragas.rename(columns={'answer': 'RAG_answer'}, inplace=True)"
   ]
  },
  {
   "cell_type": "code",
   "execution_count": 23,
   "metadata": {},
   "outputs": [],
   "source": [
    "df_bench = df_bench.merge(df_ragas[['pregunta', 'RAG_answer']], on='pregunta', how='left')"
   ]
  },
  {
   "cell_type": "code",
   "execution_count": 24,
   "metadata": {},
   "outputs": [],
   "source": [
    "tokenizer = BertTokenizer.from_pretrained('bert-base-uncased')\n",
    "model = BertModel.from_pretrained('bert-base-uncased')\n",
    "\n",
    "def embed_text(text, tokenizer, model):\n",
    "    inputs = tokenizer(text, return_tensors='pt', truncation=True, padding=True, max_length=512)\n",
    "    with torch.no_grad():\n",
    "        outputs = model(**inputs)\n",
    "    return outputs.last_hidden_state.mean(dim=1)\n",
    "\n",
    "generated_responses = df_bench['RAG_answer'].tolist()\n",
    "reference_responses = df_bench['real_answer'].tolist()\n",
    "\n",
    "generated_embeddings = [embed_text(resp, tokenizer, model) for resp in generated_responses]\n",
    "reference_embeddings = [embed_text(resp, tokenizer, model) for resp in reference_responses]\n",
    "\n",
    "cos = torch.nn.CosineSimilarity(dim=1, eps=1e-6)\n",
    "similarities = [cos(g, r).item() for g, r in zip(generated_embeddings, reference_embeddings)]"
   ]
  },
  {
   "cell_type": "code",
   "execution_count": 25,
   "metadata": {},
   "outputs": [
    {
     "data": {
      "text/html": [
       "<div>\n",
       "<style scoped>\n",
       "    .dataframe tbody tr th:only-of-type {\n",
       "        vertical-align: middle;\n",
       "    }\n",
       "\n",
       "    .dataframe tbody tr th {\n",
       "        vertical-align: top;\n",
       "    }\n",
       "\n",
       "    .dataframe thead th {\n",
       "        text-align: right;\n",
       "    }\n",
       "</style>\n",
       "<table border=\"1\" class=\"dataframe\">\n",
       "  <thead>\n",
       "    <tr style=\"text-align: right;\">\n",
       "      <th></th>\n",
       "      <th>pregunta</th>\n",
       "      <th>Documento asociado</th>\n",
       "      <th>Pregunta_asociada</th>\n",
       "      <th>answer</th>\n",
       "      <th>real_answer</th>\n",
       "      <th>Similarities</th>\n",
       "      <th>RAG_answer</th>\n",
       "      <th>RAG_Similarities</th>\n",
       "    </tr>\n",
       "  </thead>\n",
       "  <tbody>\n",
       "    <tr>\n",
       "      <th>0</th>\n",
       "      <td>como entrar portal online servicios?</td>\n",
       "      <td>0</td>\n",
       "      <td>¿Cómo accedo al portal de Servicios en Línea?</td>\n",
       "      <td>🌟 ¡Hola! Para acceder al portal de Servicios e...</td>\n",
       "      <td>🌟 ¡Hola! Estamos encantados de que estés aquí....</td>\n",
       "      <td>0.974833</td>\n",
       "      <td>Para ingresar al portal de servicios en línea,...</td>\n",
       "      <td>0.962593</td>\n",
       "    </tr>\n",
       "    <tr>\n",
       "      <th>1</th>\n",
       "      <td>¿Cómo hacer para usar Servicios en Internet?</td>\n",
       "      <td>0</td>\n",
       "      <td>¿Cómo accedo al portal de Servicios en Línea?</td>\n",
       "      <td>🌟 ¡Hola! Usar los Servicios en Internet es muy...</td>\n",
       "      <td>🌟 ¡Hola! Estamos encantados de que estés aquí....</td>\n",
       "      <td>0.954852</td>\n",
       "      <td>Para usar Servicios en Internet según el conte...</td>\n",
       "      <td>0.886029</td>\n",
       "    </tr>\n",
       "    <tr>\n",
       "      <th>2</th>\n",
       "      <td>¿Cómo se accede al portal de servicios de la UVM?</td>\n",
       "      <td>0</td>\n",
       "      <td>¿Cómo accedo al portal de Servicios en Línea?</td>\n",
       "      <td>Categoría: Portal de Servicios en Línea\\n\\nPre...</td>\n",
       "      <td>🌟 ¡Hola! Estamos encantados de que estés aquí....</td>\n",
       "      <td>0.981661</td>\n",
       "      <td>Para acceder al portal de servicios de la UVM,...</td>\n",
       "      <td>0.924971</td>\n",
       "    </tr>\n",
       "    <tr>\n",
       "      <th>3</th>\n",
       "      <td>¿Qué información se necesita para iniciar sesi...</td>\n",
       "      <td>0</td>\n",
       "      <td>¿Cómo accedo al portal de Servicios en Línea?</td>\n",
       "      <td>Para iniciar sesión en el portal de Servicios ...</td>\n",
       "      <td>🌟 ¡Hola! Estamos encantados de que estés aquí....</td>\n",
       "      <td>0.974489</td>\n",
       "      <td>Para iniciar sesión en el portal, necesitarás ...</td>\n",
       "      <td>0.909894</td>\n",
       "    </tr>\n",
       "    <tr>\n",
       "      <th>4</th>\n",
       "      <td>Como consutar calificaciones?</td>\n",
       "      <td>1</td>\n",
       "      <td>¿Cómo puedo consultar el Boletín / Boleta de C...</td>\n",
       "      <td>Categoría: Portal de Servicios en Línea\\nPregu...</td>\n",
       "      <td>🌟 ¡Hola! Estamos emocionados de poder ayudarte...</td>\n",
       "      <td>0.996288</td>\n",
       "      <td>Para consultar tus calificaciones, tienes vari...</td>\n",
       "      <td>0.963028</td>\n",
       "    </tr>\n",
       "  </tbody>\n",
       "</table>\n",
       "</div>"
      ],
      "text/plain": [
       "                                            pregunta  Documento asociado  \\\n",
       "0               como entrar portal online servicios?                   0   \n",
       "1       ¿Cómo hacer para usar Servicios en Internet?                   0   \n",
       "2  ¿Cómo se accede al portal de servicios de la UVM?                   0   \n",
       "3  ¿Qué información se necesita para iniciar sesi...                   0   \n",
       "4                      Como consutar calificaciones?                   1   \n",
       "\n",
       "                                   Pregunta_asociada  \\\n",
       "0      ¿Cómo accedo al portal de Servicios en Línea?   \n",
       "1      ¿Cómo accedo al portal de Servicios en Línea?   \n",
       "2      ¿Cómo accedo al portal de Servicios en Línea?   \n",
       "3      ¿Cómo accedo al portal de Servicios en Línea?   \n",
       "4  ¿Cómo puedo consultar el Boletín / Boleta de C...   \n",
       "\n",
       "                                              answer  \\\n",
       "0  🌟 ¡Hola! Para acceder al portal de Servicios e...   \n",
       "1  🌟 ¡Hola! Usar los Servicios en Internet es muy...   \n",
       "2  Categoría: Portal de Servicios en Línea\\n\\nPre...   \n",
       "3  Para iniciar sesión en el portal de Servicios ...   \n",
       "4  Categoría: Portal de Servicios en Línea\\nPregu...   \n",
       "\n",
       "                                         real_answer  Similarities  \\\n",
       "0  🌟 ¡Hola! Estamos encantados de que estés aquí....      0.974833   \n",
       "1  🌟 ¡Hola! Estamos encantados de que estés aquí....      0.954852   \n",
       "2  🌟 ¡Hola! Estamos encantados de que estés aquí....      0.981661   \n",
       "3  🌟 ¡Hola! Estamos encantados de que estés aquí....      0.974489   \n",
       "4  🌟 ¡Hola! Estamos emocionados de poder ayudarte...      0.996288   \n",
       "\n",
       "                                          RAG_answer  RAG_Similarities  \n",
       "0  Para ingresar al portal de servicios en línea,...          0.962593  \n",
       "1  Para usar Servicios en Internet según el conte...          0.886029  \n",
       "2  Para acceder al portal de servicios de la UVM,...          0.924971  \n",
       "3  Para iniciar sesión en el portal, necesitarás ...          0.909894  \n",
       "4  Para consultar tus calificaciones, tienes vari...          0.963028  "
      ]
     },
     "execution_count": 25,
     "metadata": {},
     "output_type": "execute_result"
    }
   ],
   "source": [
    "df_bench['RAG_Similarities'] = similarities\n",
    "df_bench.head()"
   ]
  },
  {
   "cell_type": "code",
   "execution_count": 26,
   "metadata": {},
   "outputs": [
    {
     "data": {
      "text/plain": [
       "Similarities        0.953379\n",
       "RAG_Similarities    0.937943\n",
       "dtype: float64"
      ]
     },
     "execution_count": 26,
     "metadata": {},
     "output_type": "execute_result"
    }
   ],
   "source": [
    "df_bench[['Similarities', 'RAG_Similarities']].mean()"
   ]
  },
  {
   "cell_type": "code",
   "execution_count": 27,
   "metadata": {},
   "outputs": [],
   "source": [
    "df_bench.to_csv(f'df_generativo/df_generativo_{model_llm}.csv', sep=',')"
   ]
  },
  {
   "attachments": {
    "image-2.png": {
     "image/png": "[encoded data removed]"
    },
    "image.png": {
     "image/png": "[encoded data removed]"
    }
   },
   "cell_type": "markdown",
   "metadata": {},
   "source": [
    "3.5 turbo: ![image-2.png](attachment:image-2.png)\n",
    "\n",
    "4o: ![image.png](attachment:image.png)"
   ]
  },
  {
   "cell_type": "markdown",
   "metadata": {},
   "source": []
  }
 ],
 "metadata": {
  "kernelspec": {
   "display_name": "Python 3",
   "language": "python",
   "name": "python3"
  },
  "language_info": {
   "codemirror_mode": {
    "name": "ipython",
    "version": 3
   },
   "file_extension": ".py",
   "mimetype": "text/x-python",
   "name": "python",
   "nbconvert_exporter": "python",
   "pygments_lexer": "ipython3",
   "version": "3.12.3"
  }
 },
 "nbformat": 4,
 "nbformat_minor": 2
}
