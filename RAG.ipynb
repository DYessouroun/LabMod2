{
 "cells": [
  {
   "cell_type": "markdown",
   "metadata": {},
   "source": [
    "# Ambiente"
   ]
  },
  {
   "cell_type": "markdown",
   "metadata": {},
   "source": [
    "## Instalar Librerías"
   ]
  },
  {
   "cell_type": "code",
   "execution_count": 1,
   "metadata": {},
   "outputs": [],
   "source": [
    "# pip install --user -r ./requirements.txt -q"
   ]
  },
  {
   "cell_type": "code",
   "execution_count": 2,
   "metadata": {},
   "outputs": [],
   "source": [
    "# pip show langchain"
   ]
  },
  {
   "cell_type": "code",
   "execution_count": 3,
   "metadata": {},
   "outputs": [],
   "source": [
    "# pip install --upgrade langchain -q"
   ]
  },
  {
   "cell_type": "markdown",
   "metadata": {},
   "source": [
    "## Configurar dotenv"
   ]
  },
  {
   "cell_type": "code",
   "execution_count": 4,
   "metadata": {},
   "outputs": [],
   "source": [
    "import os\n",
    "from dotenv import load_dotenv, find_dotenv"
   ]
  },
  {
   "cell_type": "code",
   "execution_count": 5,
   "metadata": {},
   "outputs": [
    {
     "data": {
      "text/plain": [
       "True"
      ]
     },
     "execution_count": 5,
     "metadata": {},
     "output_type": "execute_result"
    }
   ],
   "source": [
    "load_dotenv(find_dotenv(), override=True)"
   ]
  },
  {
   "cell_type": "markdown",
   "metadata": {},
   "source": [
    "## Imports"
   ]
  },
  {
   "cell_type": "code",
   "execution_count": 7,
   "metadata": {},
   "outputs": [],
   "source": [
    "import pandas as pd\n",
    "import numpy as np\n",
    "import time"
   ]
  },
  {
   "cell_type": "code",
   "execution_count": 8,
   "metadata": {},
   "outputs": [],
   "source": [
    "# Creación de domuentos\n",
    "from langchain_core.documents import Document\n",
    "\n",
    "# Crear índice en pinecone\n",
    "from pinecone import Pinecone\n",
    "from pinecone import ServerlessSpec\n",
    "\n",
    "# Encodear y guardar documentos\n",
    "from langchain_openai import OpenAIEmbeddings\n",
    "from langchain_pinecone import PineconeVectorStore\n",
    "\n",
    "# Chain respuesta a query\n",
    "from langchain.chains import create_retrieval_chain\n",
    "from langchain.chains.combine_documents import create_stuff_documents_chain\n",
    "from langchain_core.prompts import ChatPromptTemplate\n",
    "from langchain_openai import ChatOpenAI\n",
    "\n",
    "# Vectorización\n",
    "from concurrent.futures import ThreadPoolExecutor\n",
    "\n",
    "# Paralelizar\n",
    "from joblib import Parallel, delayed\n",
    "\n",
    "# El documento entregado a ragas debe ser de tipo DatasetDict\n",
    "from datasets import Dataset, DatasetDict\n",
    "\n",
    "# Métricas LLM\n",
    "from ragas.metrics import (\n",
    "    answer_relevancy,\n",
    "    faithfulness,\n",
    "    context_recall,\n",
    "    context_precision,\n",
    "    context_relevancy,\n",
    ")\n",
    "\n",
    "# Ver resultados\n",
    "from ragas import evaluate\n",
    "\n",
    "import matplotlib.pyplot as plt\n",
    "import seaborn as sns"
   ]
  },
  {
   "cell_type": "code",
   "execution_count": 10,
   "metadata": {},
   "outputs": [],
   "source": [
    "model_embedding = 'text-embedding-3-large'\n",
    "# model_embedding = 'text-embedding-3-small'\n",
    "\n",
    "model_llm = \"gpt-3.5-turbo\"\n",
    "# model_llm = 'gpt-4o'"
   ]
  },
  {
   "cell_type": "markdown",
   "metadata": {},
   "source": [
    "# Documentos"
   ]
  },
  {
   "cell_type": "markdown",
   "metadata": {},
   "source": [
    "## Carga"
   ]
  },
  {
   "cell_type": "code",
   "execution_count": 11,
   "metadata": {},
   "outputs": [],
   "source": [
    "df_documentos = pd.read_excel('FAQS Preguntas frecuentes Abril 2024-1.xlsx', engine='openpyxl')\n",
    "columnas = df_documentos.columns\n",
    "df_documentos[columnas[0]] = df_documentos[columnas[0]].ffill()"
   ]
  },
  {
   "cell_type": "code",
   "execution_count": 12,
   "metadata": {},
   "outputs": [
    {
     "data": {
      "text/html": [
       "<div>\n",
       "<style scoped>\n",
       "    .dataframe tbody tr th:only-of-type {\n",
       "        vertical-align: middle;\n",
       "    }\n",
       "\n",
       "    .dataframe tbody tr th {\n",
       "        vertical-align: top;\n",
       "    }\n",
       "\n",
       "    .dataframe thead th {\n",
       "        text-align: right;\n",
       "    }\n",
       "</style>\n",
       "<table border=\"1\" class=\"dataframe\">\n",
       "  <thead>\n",
       "    <tr style=\"text-align: right;\">\n",
       "      <th></th>\n",
       "      <th>Catalogo de respuestas frecuentes</th>\n",
       "      <th>PREGUNTA FRECUENTE</th>\n",
       "      <th>Respuesta Chat GPT</th>\n",
       "    </tr>\n",
       "  </thead>\n",
       "  <tbody>\n",
       "    <tr>\n",
       "      <th>0</th>\n",
       "      <td>Portal de Servicios en Línea</td>\n",
       "      <td>¿Cómo accedo al portal de Servicios en Línea?</td>\n",
       "      <td>🌟 ¡Hola! Estamos encantados de que estés aquí....</td>\n",
       "    </tr>\n",
       "    <tr>\n",
       "      <th>1</th>\n",
       "      <td>Portal de Servicios en Línea</td>\n",
       "      <td>¿Cómo puedo consultar el Boletín / Boleta de C...</td>\n",
       "      <td>🌟 ¡Hola! Estamos emocionados de poder ayudarte...</td>\n",
       "    </tr>\n",
       "    <tr>\n",
       "      <th>2</th>\n",
       "      <td>Portal de Servicios en Línea</td>\n",
       "      <td>¿Cómo puedo consultar mi Horario?</td>\n",
       "      <td>🌟 ¡Hola! ¡Estamos aquí para ayudarte! 😊 Si nec...</td>\n",
       "    </tr>\n",
       "    <tr>\n",
       "      <th>3</th>\n",
       "      <td>Portal de Servicios en Línea</td>\n",
       "      <td>¿Cómo puedo recuperar mi contraseña de acceso ...</td>\n",
       "      <td>🌟 ¡Hola! Si necesitas recuperar tu contraseña,...</td>\n",
       "    </tr>\n",
       "    <tr>\n",
       "      <th>4</th>\n",
       "      <td>Becas</td>\n",
       "      <td>¿Cómo accedo al portal de Becas?</td>\n",
       "      <td>🌟 ¡Hola! Estamos encantados de ayudarte. 😊 Par...</td>\n",
       "    </tr>\n",
       "    <tr>\n",
       "      <th>5</th>\n",
       "      <td>Becas</td>\n",
       "      <td>¿Cómo puedo consultar mi dictamen?</td>\n",
       "      <td>📧 Recibirás una notificación en tu correo inst...</td>\n",
       "    </tr>\n",
       "    <tr>\n",
       "      <th>6</th>\n",
       "      <td>Becas</td>\n",
       "      <td>¿Cómo registrar un caso especial de beca?</td>\n",
       "      <td>🎓 Para solicitar una beca por caso especial, s...</td>\n",
       "    </tr>\n",
       "    <tr>\n",
       "      <th>7</th>\n",
       "      <td>Becas</td>\n",
       "      <td>¿Cómo puedo recuperar mi contraseña de acceso ...</td>\n",
       "      <td>🔒 Si olvidaste tu contraseña, no te preocupes....</td>\n",
       "    </tr>\n",
       "    <tr>\n",
       "      <th>8</th>\n",
       "      <td>Becas</td>\n",
       "      <td>¿Cuál es el promedio mínimo para conservar la ...</td>\n",
       "      <td>🎓 Para licenciatura, es importante mantener un...</td>\n",
       "    </tr>\n",
       "    <tr>\n",
       "      <th>9</th>\n",
       "      <td>Becas</td>\n",
       "      <td>¿Cuáles son los requisitos del proceso de reno...</td>\n",
       "      <td>📝 El proceso de renovación de beca consta de d...</td>\n",
       "    </tr>\n",
       "    <tr>\n",
       "      <th>10</th>\n",
       "      <td>ADN Lince</td>\n",
       "      <td>¿Cómo ingreso a los cuestionarios ADN Lince?</td>\n",
       "      <td>🌟 Simplemente haz clic sobre el nombre de la a...</td>\n",
       "    </tr>\n",
       "    <tr>\n",
       "      <th>11</th>\n",
       "      <td>ADN Lince</td>\n",
       "      <td>¿Cómo realizo la carga de mi evidencia ADN lin...</td>\n",
       "      <td>Para completar los cuestionarios, asegúrate de...</td>\n",
       "    </tr>\n",
       "  </tbody>\n",
       "</table>\n",
       "</div>"
      ],
      "text/plain": [
       "   Catalogo de respuestas frecuentes  \\\n",
       "0       Portal de Servicios en Línea   \n",
       "1       Portal de Servicios en Línea   \n",
       "2       Portal de Servicios en Línea   \n",
       "3       Portal de Servicios en Línea   \n",
       "4                              Becas   \n",
       "5                              Becas   \n",
       "6                              Becas   \n",
       "7                              Becas   \n",
       "8                              Becas   \n",
       "9                              Becas   \n",
       "10                         ADN Lince   \n",
       "11                         ADN Lince   \n",
       "\n",
       "                                   PREGUNTA FRECUENTE  \\\n",
       "0       ¿Cómo accedo al portal de Servicios en Línea?   \n",
       "1   ¿Cómo puedo consultar el Boletín / Boleta de C...   \n",
       "2                   ¿Cómo puedo consultar mi Horario?   \n",
       "3   ¿Cómo puedo recuperar mi contraseña de acceso ...   \n",
       "4                    ¿Cómo accedo al portal de Becas?   \n",
       "5                  ¿Cómo puedo consultar mi dictamen?   \n",
       "6           ¿Cómo registrar un caso especial de beca?   \n",
       "7   ¿Cómo puedo recuperar mi contraseña de acceso ...   \n",
       "8   ¿Cuál es el promedio mínimo para conservar la ...   \n",
       "9   ¿Cuáles son los requisitos del proceso de reno...   \n",
       "10       ¿Cómo ingreso a los cuestionarios ADN Lince?   \n",
       "11  ¿Cómo realizo la carga de mi evidencia ADN lin...   \n",
       "\n",
       "                                   Respuesta Chat GPT  \n",
       "0   🌟 ¡Hola! Estamos encantados de que estés aquí....  \n",
       "1   🌟 ¡Hola! Estamos emocionados de poder ayudarte...  \n",
       "2   🌟 ¡Hola! ¡Estamos aquí para ayudarte! 😊 Si nec...  \n",
       "3   🌟 ¡Hola! Si necesitas recuperar tu contraseña,...  \n",
       "4   🌟 ¡Hola! Estamos encantados de ayudarte. 😊 Par...  \n",
       "5   📧 Recibirás una notificación en tu correo inst...  \n",
       "6   🎓 Para solicitar una beca por caso especial, s...  \n",
       "7   🔒 Si olvidaste tu contraseña, no te preocupes....  \n",
       "8   🎓 Para licenciatura, es importante mantener un...  \n",
       "9   📝 El proceso de renovación de beca consta de d...  \n",
       "10  🌟 Simplemente haz clic sobre el nombre de la a...  \n",
       "11  Para completar los cuestionarios, asegúrate de...  "
      ]
     },
     "execution_count": 12,
     "metadata": {},
     "output_type": "execute_result"
    }
   ],
   "source": [
    "df_documentos.head(12)"
   ]
  },
  {
   "cell_type": "markdown",
   "metadata": {},
   "source": [
    "Consideraremos como documento cada una de las filas con estructura:\n",
    "\n",
    "```python\n",
    "docs = [\n",
    "    Document(\n",
    "        page_content=\"A bunch of scientists bring back dinosaurs and mayhem breaks loose\",\n",
    "        metadata={\"year\": 1993, \"rating\": 7.7, \"genre\": [\"action\", \"science fiction\"]},\n",
    "    ),\n",
    "]\n"
   ]
  },
  {
   "cell_type": "code",
   "execution_count": 13,
   "metadata": {},
   "outputs": [
    {
     "name": "stdout",
     "output_type": "stream",
     "text": [
      "🌟 ¡Hola! Estamos encantados de que estés aquí. 😊 Para acceder a nuestro portal, simplemente haz clic en este enlace:\n",
      "\n",
      "🔗 https://ventanillaservicios.uvmnet.edu/PortalServicios/\n",
      "\n",
      "🔐 Para iniciar sesión, utiliza tu número de matrícula como usuario y tu fecha de nacimiento en formato ddmmaa como contraseña (no olvides los dos últimos dígitos para representar el año). ¡Esperamos que tu experiencia en nuestro portal sea excelente! 👍.\n",
      "\n",
      "\n",
      "{'Categoría': 'Portal de Servicios en Línea', 'Pregunta': '¿Cómo accedo al portal de Servicios en Línea?'}\n"
     ]
    }
   ],
   "source": [
    "documents = []\n",
    "for index, row in df_documentos.iterrows():\n",
    "    elemento1 = row[columnas[0]]\n",
    "    elemento2 = row[columnas[1]]\n",
    "    elemento3 = row[columnas[2]]\n",
    "    documento = Document(page_content=f'{elemento3}.',\n",
    "                         metadata={'Categoría': f'{elemento1}', 'Pregunta': f'{elemento2}'})\n",
    "    documents.append(documento)\n",
    "\n",
    "print(documents[0].page_content)\n",
    "print('\\n')\n",
    "print(documents[0].metadata)"
   ]
  },
  {
   "cell_type": "markdown",
   "metadata": {},
   "source": [
    "## Pinecone"
   ]
  },
  {
   "cell_type": "code",
   "execution_count": 14,
   "metadata": {},
   "outputs": [],
   "source": [
    "pc = Pinecone(api_key=os.environ.get(\"PINECONE_API_KEY\"))"
   ]
  },
  {
   "cell_type": "markdown",
   "metadata": {},
   "source": [
    "Borramos todos los índices creados previamente"
   ]
  },
  {
   "cell_type": "code",
   "execution_count": 15,
   "metadata": {},
   "outputs": [],
   "source": [
    "for index_name in pc.list_indexes().names():\n",
    "    pc.delete_index(index_name)"
   ]
  },
  {
   "cell_type": "markdown",
   "metadata": {},
   "source": [
    "Creamos índice en Pinecone"
   ]
  },
  {
   "cell_type": "code",
   "execution_count": 16,
   "metadata": {},
   "outputs": [],
   "source": [
    "cloud = os.environ.get('PINECONE_CLOUD') or 'aws'\n",
    "region = os.environ.get('PINECONE_REGION') or 'us-east-1'\n",
    "\n",
    "spec = ServerlessSpec(cloud=cloud, region=region)\n",
    "\n",
    "index_name = 'lab-mod-2'"
   ]
  },
  {
   "cell_type": "code",
   "execution_count": 17,
   "metadata": {},
   "outputs": [
    {
     "name": "stdout",
     "output_type": "stream",
     "text": [
      "El indice lab-mod-2 no existe\n",
      "Creando el indice...\n",
      "Listo!!\n"
     ]
    }
   ],
   "source": [
    "dimension = 3072 # text-embedding-3-large\n",
    "if model_embedding == 'text-embedding-3-small':\n",
    "    dimension = 1536\n",
    "\n",
    "if index_name not in pc.list_indexes().names():\n",
    "    print(f\"El indice {index_name} no existe\")\n",
    "    print(\"Creando el indice...\")\n",
    "    pc.create_index(\n",
    "            index_name,\n",
    "            dimension=dimension,\n",
    "            metric='cosine',\n",
    "            spec=spec\n",
    "        )\n",
    "    print(\"Listo!!\")\n",
    "else:\n",
    "    print(f\"el indice {index_name} ya existe en Pinecone\")\n",
    "\n",
    "\n",
    "while not pc.describe_index(index_name).status['ready']:\n",
    "    time.sleep(1)"
   ]
  },
  {
   "cell_type": "code",
   "execution_count": 18,
   "metadata": {},
   "outputs": [
    {
     "data": {
      "text/plain": [
       "{'indexes': [{'dimension': 3072,\n",
       "              'host': 'lab-mod-2-nhvaax3.svc.aped-4627-b74a.pinecone.io',\n",
       "              'metric': 'cosine',\n",
       "              'name': 'lab-mod-2',\n",
       "              'spec': {'serverless': {'cloud': 'aws', 'region': 'us-east-1'}},\n",
       "              'status': {'ready': True, 'state': 'Ready'}}]}"
      ]
     },
     "execution_count": 18,
     "metadata": {},
     "output_type": "execute_result"
    }
   ],
   "source": [
    "pc.list_indexes()"
   ]
  },
  {
   "cell_type": "code",
   "execution_count": 19,
   "metadata": {},
   "outputs": [
    {
     "data": {
      "text/plain": [
       "{'dimension': 3072,\n",
       " 'index_fullness': 0.0,\n",
       " 'namespaces': {},\n",
       " 'total_vector_count': 0}"
      ]
     },
     "execution_count": 19,
     "metadata": {},
     "output_type": "execute_result"
    }
   ],
   "source": [
    "index = pc.Index(index_name)\n",
    "time.sleep(1)\n",
    "\n",
    "index.describe_index_stats()"
   ]
  },
  {
   "cell_type": "markdown",
   "metadata": {},
   "source": [
    "### Encodeamos y guardamos los documentos\n"
   ]
  },
  {
   "cell_type": "code",
   "execution_count": 20,
   "metadata": {},
   "outputs": [],
   "source": [
    "embeddings = OpenAIEmbeddings(\n",
    "    model=model_embedding,\n",
    "    openai_api_key=os.environ.get('OPENAI_API_KEY')\n",
    ")\n",
    "\n",
    "vectorstore = PineconeVectorStore.from_documents(\n",
    "    documents, embeddings, index_name=index_name\n",
    ")"
   ]
  },
  {
   "cell_type": "code",
   "execution_count": 21,
   "metadata": {},
   "outputs": [
    {
     "data": {
      "text/plain": [
       "{'dimension': 3072,\n",
       " 'index_fullness': 0.0,\n",
       " 'namespaces': {'': {'vector_count': 128}},\n",
       " 'total_vector_count': 128}"
      ]
     },
     "execution_count": 21,
     "metadata": {},
     "output_type": "execute_result"
    }
   ],
   "source": [
    "index.describe_index_stats()"
   ]
  },
  {
   "cell_type": "markdown",
   "metadata": {},
   "source": [
    "# RAG"
   ]
  },
  {
   "cell_type": "code",
   "execution_count": 22,
   "metadata": {},
   "outputs": [],
   "source": [
    "k = 3\n",
    "\n",
    "prompt = ChatPromptTemplate.from_template(\n",
    "    \"\"\"Responde la siguiente pregunta de manera completa y basándote solo en el contexto proporcionado:\n",
    "\n",
    "<contexto>\n",
    "{context}\n",
    "</contexto>\n",
    "\n",
    "Pregunta: {input}\"\"\"\n",
    ")\n",
    "\n",
    "llm = ChatOpenAI(model=model_llm, temperature=1)\n",
    "document_chain = create_stuff_documents_chain(llm, prompt)\n",
    "retriever = vectorstore.as_retriever(search_type = 'similarity', search_kwargs={'k' : k})\n",
    "retrieval_chain = create_retrieval_chain(retriever, document_chain)"
   ]
  },
  {
   "cell_type": "code",
   "execution_count": 23,
   "metadata": {},
   "outputs": [
    {
     "data": {
      "text/plain": [
       "{'input': 'Cómo recupero contra??',\n",
       " 'context': [Document(page_content='🔐 ¡Recuperar tu contraseña es muy fácil! Sigue estos pasos:\\n\\n1️⃣ Ingresa a esta liga: https://ventanillaservicios.uvmnet.edu/portalservicios/Paginas/RecuperacionDeContrase%C3%B1a.aspx \\n2️⃣ En el apartado de \"Cuenta\", ingresa tu matrícula.\\n3️⃣ En \"Campus\", selecciona \"ONLINE\".\\n4️⃣ ¡Listo! Recibirás un mensaje confirmando que se ha enviado el enlace de restablecimiento a tu dirección de correo personal registrada.\\n5️⃣ Revisa tu bandeja de entrada (¡y también la de spam!) en un plazo de 2 a 5 minutos para encontrar el correo con el enlace de recuperación de acceso o los detalles de inicio de sesión.\\n\\n¡Esperamos que recuperes tu acceso pronto! 😊🔑.', metadata={'Categoría': 'Conexión UVM', 'Pregunta': '¿Cómo puedo recuperar mi contraseña de acceso de Conexión UVM?'}),\n",
       "  Document(page_content='🌟 ¡Hola! Si necesitas recuperar tu contraseña, estamos aquí para ayudarte. 😊 Simplemente haz clic en este enlace:\\n\\n🔗 https://ventanillaservicios.uvmnet.edu/PortalServicios/\\n\\nUna vez dentro del portal, selecciona \"Recupera Usuario y Contraseña\". Luego, ingresa tu número de matrícula en el buscador y haz clic en \"Aceptar\".\\n\\n📧 Te mostraremos el correo al cual se enviará un mensaje con tus accesos restablecidos. No olvides revisar tu bandeja de correo no deseado o spam. ¡Esperamos que puedas recuperar tu contraseña sin problemas! 👍.', metadata={'Categoría': 'Portal de Servicios en Línea', 'Pregunta': '¿Cómo puedo recuperar mi contraseña de acceso a servicios en línea?'}),\n",
       "  Document(page_content='Si necesitas restablecer tu contraseña, no te preocupes, te guiaré paso a paso. 😊\\n\\n1. Dirígete al apartado \"¿Olvidaste tu contraseña?\" que está ubicado debajo de las opciones de inicio de sesión.\\n2. Ingresa y busca la opción \"Dirección de Correo Electrónico\".\\n3. Completa los campos de nombre y apellidos en MAYÚSCULAS Y SIN ACENTOS, luego coloca tu correo institucional.\\n4. Una vez enviada la información, recibirás un correo en tu bandeja de entrada institucional con el enlace e instrucciones para restablecer la contraseña. Si no ves el correo en tu bandeja principal, ¡no te preocupes! Revisa la carpeta de SPAM o correo no deseado, a veces puede llegar allí.\\n¡Listo! Con estos pasos, estarás listo para recuperar tu contraseña. 🔐.', metadata={'Categoría': 'Acceso a plataforma Blackboard Usuario y Contraseña/ Safe Key', 'Pregunta': '¿Cómo puedo recuperar mi contraseña de acceso a Blackboard?'})],\n",
       " 'answer': 'Para recuperar tu contraseña, debes seguir los siguientes pasos:\\n\\n1. Ingresa al enlace proporcionado: https://ventanillaservicios.uvmnet.edu/portalservicios/Paginas/RecuperacionDeContrase%C3%B1a.aspx\\n2. Ingresa tu matrícula en el apartado de \"Cuenta\" y selecciona \"ONLINE\" en el apartado de \"Campus\".\\n3. Revisa tu bandeja de entrada (y también la de spam) en un plazo de 2 a 5 minutos para encontrar el correo con el enlace de recuperación de acceso o los detalles de inicio de sesión.\\n\\nSi por algún motivo no recibes el correo, puedes seguir estos pasos adicionales:\\n1. Dirígete al apartado \"¿Olvidaste tu contraseña?\" debajo de las opciones de inicio de sesión.\\n2. Ingresa tu correo institucional y completa los campos requeridos.\\n3. Revisa tu bandeja de entrada institucional y también la de spam en caso de no encontrar el correo.\\n\\nSiguiendo estos pasos, podrás recuperar tu contraseña de acceso.'}"
      ]
     },
     "execution_count": 23,
     "metadata": {},
     "output_type": "execute_result"
    }
   ],
   "source": [
    "query = 'Cómo recupero contra??'\n",
    "retrieval_chain.invoke({\"input\": f'{query}'})"
   ]
  },
  {
   "cell_type": "markdown",
   "metadata": {},
   "source": [
    "# Benchmark"
   ]
  },
  {
   "cell_type": "markdown",
   "metadata": {},
   "source": [
    "Para facilitar el cálculo de las métricas verde y optimizar el uso de la memoria, agregamos columna de pregunta asociada"
   ]
  },
  {
   "cell_type": "code",
   "execution_count": 24,
   "metadata": {},
   "outputs": [
    {
     "data": {
      "text/html": [
       "<div>\n",
       "<style scoped>\n",
       "    .dataframe tbody tr th:only-of-type {\n",
       "        vertical-align: middle;\n",
       "    }\n",
       "\n",
       "    .dataframe tbody tr th {\n",
       "        vertical-align: top;\n",
       "    }\n",
       "\n",
       "    .dataframe thead th {\n",
       "        text-align: right;\n",
       "    }\n",
       "</style>\n",
       "<table border=\"1\" class=\"dataframe\">\n",
       "  <thead>\n",
       "    <tr style=\"text-align: right;\">\n",
       "      <th></th>\n",
       "      <th>pregunta</th>\n",
       "      <th>Documento asociado</th>\n",
       "      <th>Pregunta_asociada</th>\n",
       "    </tr>\n",
       "  </thead>\n",
       "  <tbody>\n",
       "    <tr>\n",
       "      <th>0</th>\n",
       "      <td>como entrar portal online servicios?</td>\n",
       "      <td>0</td>\n",
       "      <td>¿Cómo accedo al portal de Servicios en Línea?</td>\n",
       "    </tr>\n",
       "    <tr>\n",
       "      <th>1</th>\n",
       "      <td>¿Cómo hacer para usar Servicios en Internet?</td>\n",
       "      <td>0</td>\n",
       "      <td>¿Cómo accedo al portal de Servicios en Línea?</td>\n",
       "    </tr>\n",
       "    <tr>\n",
       "      <th>2</th>\n",
       "      <td>¿Cómo se accede al portal de servicios de la UVM?</td>\n",
       "      <td>0</td>\n",
       "      <td>¿Cómo accedo al portal de Servicios en Línea?</td>\n",
       "    </tr>\n",
       "    <tr>\n",
       "      <th>3</th>\n",
       "      <td>¿Qué información se necesita para iniciar sesi...</td>\n",
       "      <td>0</td>\n",
       "      <td>¿Cómo accedo al portal de Servicios en Línea?</td>\n",
       "    </tr>\n",
       "    <tr>\n",
       "      <th>4</th>\n",
       "      <td>Como consutar calificaciones?</td>\n",
       "      <td>1</td>\n",
       "      <td>¿Cómo puedo consultar el Boletín / Boleta de C...</td>\n",
       "    </tr>\n",
       "  </tbody>\n",
       "</table>\n",
       "</div>"
      ],
      "text/plain": [
       "                                            pregunta  Documento asociado  \\\n",
       "0               como entrar portal online servicios?                   0   \n",
       "1       ¿Cómo hacer para usar Servicios en Internet?                   0   \n",
       "2  ¿Cómo se accede al portal de servicios de la UVM?                   0   \n",
       "3  ¿Qué información se necesita para iniciar sesi...                   0   \n",
       "4                      Como consutar calificaciones?                   1   \n",
       "\n",
       "                                   Pregunta_asociada  \n",
       "0      ¿Cómo accedo al portal de Servicios en Línea?  \n",
       "1      ¿Cómo accedo al portal de Servicios en Línea?  \n",
       "2      ¿Cómo accedo al portal de Servicios en Línea?  \n",
       "3      ¿Cómo accedo al portal de Servicios en Línea?  \n",
       "4  ¿Cómo puedo consultar el Boletín / Boleta de C...  "
      ]
     },
     "execution_count": 24,
     "metadata": {},
     "output_type": "execute_result"
    }
   ],
   "source": [
    "df_bench = pd.read_excel(\"benchmark.xlsx\")\n",
    "df_bench[\"Pregunta_asociada\"] = df_bench[\"Documento asociado\"].apply(lambda entero: df_documentos.iloc[entero][\"PREGUNTA FRECUENTE\"])\n",
    "df_bench.head()"
   ]
  },
  {
   "cell_type": "markdown",
   "metadata": {},
   "source": [
    "# Metricas Verdes"
   ]
  },
  {
   "cell_type": "markdown",
   "metadata": {},
   "source": [
    "## Definición y ejemplos de uso"
   ]
  },
  {
   "cell_type": "code",
   "execution_count": 25,
   "metadata": {},
   "outputs": [],
   "source": [
    "k_ejemplos = 10"
   ]
  },
  {
   "cell_type": "code",
   "execution_count": 26,
   "metadata": {},
   "outputs": [
    {
     "name": "stdout",
     "output_type": "stream",
     "text": [
      "como entrar portal online servicios?\n"
     ]
    },
    {
     "data": {
      "text/html": [
       "<div>\n",
       "<style scoped>\n",
       "    .dataframe tbody tr th:only-of-type {\n",
       "        vertical-align: middle;\n",
       "    }\n",
       "\n",
       "    .dataframe tbody tr th {\n",
       "        vertical-align: top;\n",
       "    }\n",
       "\n",
       "    .dataframe thead th {\n",
       "        text-align: right;\n",
       "    }\n",
       "</style>\n",
       "<table border=\"1\" class=\"dataframe\">\n",
       "  <thead>\n",
       "    <tr style=\"text-align: right;\">\n",
       "      <th></th>\n",
       "      <th>pregunta</th>\n",
       "      <th>Documento asociado</th>\n",
       "      <th>Pregunta_asociada</th>\n",
       "    </tr>\n",
       "  </thead>\n",
       "  <tbody>\n",
       "    <tr>\n",
       "      <th>0</th>\n",
       "      <td>como entrar portal online servicios?</td>\n",
       "      <td>0</td>\n",
       "      <td>¿Cómo accedo al portal de Servicios en Línea?</td>\n",
       "    </tr>\n",
       "    <tr>\n",
       "      <th>1</th>\n",
       "      <td>¿Cómo hacer para usar Servicios en Internet?</td>\n",
       "      <td>0</td>\n",
       "      <td>¿Cómo accedo al portal de Servicios en Línea?</td>\n",
       "    </tr>\n",
       "  </tbody>\n",
       "</table>\n",
       "</div>"
      ],
      "text/plain": [
       "                                       pregunta  Documento asociado  \\\n",
       "0          como entrar portal online servicios?                   0   \n",
       "1  ¿Cómo hacer para usar Servicios en Internet?                   0   \n",
       "\n",
       "                               Pregunta_asociada  \n",
       "0  ¿Cómo accedo al portal de Servicios en Línea?  \n",
       "1  ¿Cómo accedo al portal de Servicios en Línea?  "
      ]
     },
     "execution_count": 26,
     "metadata": {},
     "output_type": "execute_result"
    }
   ],
   "source": [
    "q = df_bench.iloc[0][\"pregunta\"]\n",
    "print(q)\n",
    "\n",
    "df_bench.head(2)"
   ]
  },
  {
   "cell_type": "code",
   "execution_count": 27,
   "metadata": {},
   "outputs": [
    {
     "data": {
      "text/plain": [
       "'¿Cómo accedo al portal de Servicios en Línea?'"
      ]
     },
     "execution_count": 27,
     "metadata": {},
     "output_type": "execute_result"
    }
   ],
   "source": [
    "relevant_questions = df_bench.loc[df_bench[\"pregunta\"]==q, \"Pregunta_asociada\"].values[0]\n",
    "relevant_questions"
   ]
  },
  {
   "cell_type": "code",
   "execution_count": 28,
   "metadata": {},
   "outputs": [
    {
     "name": "stdout",
     "output_type": "stream",
     "text": [
      "{'input': 'como entrar portal online servicios?', 'context': [Document(page_content='🌟 ¡Bienvenido a tu portal de pago en línea! Para ingresar, simplemente haz clic en este enlace:\\n\\n🔗 https://uvmenlinea.uvmnet.edu/ServiciosEnLineaBanner/Login.aspx \\n\\n🔐 Usa tu número de matrícula como usuario y tu fecha de nacimiento en formato ddmmaa como contraseña (los dos últimos dígitos son para el año). No olvides seleccionar \"Online\" como tu campus. ¡Listo para empezar! 😊💳.', metadata={'Categoría': 'Pago en Línea', 'Pregunta': '¿Cómo ingreso al portal de Pago en línea?'}), Document(page_content='🌟 ¡Accede al portal de manera fácil y rápida! Aquí te indicamos cómo hacerlo:\\n\\n1️⃣ Ingresa al portal a través de este enlace: https://uvmlink-csm.symplicity.com/ \\n2️⃣ Selecciona el usuario \"ESTUDIANTE/EGRESADO\".\\n3️⃣ Inicia sesión utilizando tu correo institucional y la contraseña correspondiente. Si experimentas algún problema de acceso, ¡no te preocupes! Contacta a un Asistente Lince para recibir ayuda personalizada y asegurarte de ingresar correctamente. 😊🔒.', metadata={'Categoría': 'Bolsa de trabajo', 'Pregunta': '¿Cómo ingreso al portal de bolsa de trabajo?'}), Document(page_content='🌟 ¡Hola! Estamos encantados de que estés aquí. 😊 Para acceder a nuestro portal, simplemente haz clic en este enlace:\\n\\n🔗 https://ventanillaservicios.uvmnet.edu/PortalServicios/\\n\\n🔐 Para iniciar sesión, utiliza tu número de matrícula como usuario y tu fecha de nacimiento en formato ddmmaa como contraseña (no olvides los dos últimos dígitos para representar el año). ¡Esperamos que tu experiencia en nuestro portal sea excelente! 👍.', metadata={'Categoría': 'Portal de Servicios en Línea', 'Pregunta': '¿Cómo accedo al portal de Servicios en Línea?'}), Document(page_content='🌟 Para acceder, simplemente sigue estos pasos:\\n\\nIngresa al portal de ayuda de Zendesk usando este enlace: uvmonline.zendesk.com.\\nHaz clic en \"Iniciar sesión\".\\nSelecciona la opción \"Iniciar sesión con Microsoft\".\\nLuego, inicia sesión con tu usuario y contraseña del correo institucional. ¡Y listo! Estarás dentro. 😊🚀.', metadata={'Categoría': 'Portal de Ayuda', 'Pregunta': '¿Cómo puedo ingresar al portal de ayuda?'}), Document(page_content='🌟 ¡Hola! Estamos encantados de ayudarte. 😊 Para acceder, simplemente haz clic en este enlace:\\n\\n🔗 https://becasuvm.laureate.mx/alumnos/index\\n\\n📝 Si es tu primera vez aquí, necesitarás registrarte en el portal. Solo te pediremos tu matrícula, correo institucional y que crees una contraseña.\\n\\n🔑 Una vez registrado, podrás acceder utilizando tu correo institucional y la contraseña que creaste durante el registro. ¡Esperamos que disfrutes de tu experiencia en nuestro portal! 👍.', metadata={'Categoría': 'Becas', 'Pregunta': '¿Cómo accedo al portal de Becas?'}), Document(page_content='Para ingresar, simplemente sigue este enlace: https://uvmonline.blackboard.com/ 🔑.', metadata={'Categoría': 'Acceso a plataforma Blackboard Usuario y Contraseña/ Safe Key', 'Pregunta': '¿Cuál es la liga de acceso al portal de Enseñanza Aprendizaje Blackboard?'}), Document(page_content='🌟 ¡Dentro del portal, encontrarás todas las opciones que necesitas! Haz clic en \"Opciones\" y luego en \"Adeudos\". Ahí verás tus montos y fechas de pago.\\n\\n💳 Selecciona el monto que deseas pagar y en la parte inferior, en \"Monto a pagar\", ingresa la cantidad (sin decimales) y haz clic en \"Aceptar\". Luego, elige la opción \"Pago en medios electrónicos\" y selecciona tu tipo de tarjeta.\\n\\n🛍️ Ahora, simplemente ingresa la información de tu tarjeta para completar el pago. ¡Listo para resolver tus adeudos de manera fácil y rápida! 😊🔗.', metadata={'Categoría': 'Pago en Línea', 'Pregunta': '¿Cómo puedo realizar mi pago en línea?'}), Document(page_content='📚 ¡Te damos la bienvenida a nuestra Biblioteca Virtual! Para acceder, simplemente sigue estos pasos:\\n\\nIngresa al siguiente enlace: https://bibliotecas.uvmnet.edu/portico/gui/ \\nEn el menú, selecciona la opción \"INICIO SESIÓN\".\\nEn la siguiente pantalla, elige la opción \"inicia sesión con tu cuenta my.uvm.edu.mx\" e introduce tu correo institucional junto con la contraseña que utilizas para acceder a este.\\nUna vez dentro, desplázate al final de la página, en el apartado de \"INICIO\" verás tu correo institucional, con esto podrás estar seguro de que iniciaste tu sesión correctamente. ¡Listo para explorar todo nuestro contenido! 🌟.', metadata={'Categoría': 'Pórtico', 'Pregunta': '¿Cómo puedo ingresar a la biblioteca digital?'}), Document(page_content='🌟 ¡Hola! Estamos emocionados de poder ayudarte. 😊 Para consultar tu boletín de calificaciones, simplemente haz clic en este enlace:\\n\\n🔗 https://ventanillaservicios.uvmnet.edu/PortalServicios/\\n\\n🔐 Inicia sesión utilizando tu número de matrícula como usuario y tu fecha de nacimiento en formato ddmmaa como contraseña (no olvides los dos últimos dígitos para representar el año).\\n\\nUna vez dentro del portal, dirígete a la sección \"Servicios Escolares\" y luego selecciona \"Consultar Boletín de calificaciones\". Elige el tipo de reporte y el periodo que deseas consultar, y al finalizar, haz clic en \"Generar reporte\" para ver tus calificaciones y promedio final. ¡Esperamos que tengas excelentes resultados! 👍\\n\\n🔍 Te recomendamos realizar este proceso desde el navegador Internet Explorer o desde la vista de Internet Explorer en el navegador Microsoft Edge para una experiencia óptima.\\n\\n\\n.', metadata={'Categoría': 'Portal de Servicios en Línea', 'Pregunta': '¿Cómo puedo consultar el Boletín / Boleta de Calificaciones?'}), Document(page_content='✨ ¡Hola! Si deseas realizar el alta de tus datos, sigue estos sencillos pasos:\\n\\n1️⃣ Ingresa al portal de ayuda en este enlace: https://uvmonline.zendesk.com/hc/es\\n\\n2️⃣ Haz clic en el apartado de \"Enviar solicitud\", ubicado en la parte superior derecha.\\n\\n3️⃣ Completa todos los campos que te aparezcan: en el campo de materia y docente, coloca \"NA\", y en el campo de incidencia, elige la opción \"Alta de datos para factura\".\\n\\n4️⃣ Adjunta los siguientes documentos: Identificación oficial (INE), constancia de situación fiscal, y el Formato fiscal (uso de CFDI y régimen fiscal).\\n\\n5️⃣ En la parte de descripción, solicita que se den de alta tus datos para poder obtener tus facturas.\\n\\n6️⃣ Una vez que hayas completado todos los campos, simplemente haz clic en \"Enviar\".\\n\\n📧 Recibirás la respuesta a tu solicitud en el correo electrónico que registraste al momento de dar de alta tu solicitud. ¡Gracias por tu atención y confianza! 😊👍.', metadata={'Categoría': 'Facturación', 'Pregunta': '¿Cómo puedo dar de alta mis datos fiscales para facturar?'})], 'answer': 'Para acceder al portal online de servicios, primero debes ingresar al enlace proporcionado en el contexto, ya sea https://uvmenlinea.uvmnet.edu/ServiciosEnLineaBanner/Login.aspx, https://ventanillaservicios.uvmnet.edu/PortalServicios/, https://uvmlink-csm.symplicity.com/, entre otros. Una vez en la página de inicio de sesión, debes utilizar tu número de matrícula como usuario y tu fecha de nacimiento en formato ddmmaa como contraseña, asegurándote de incluir los dos últimos dígitos para representar el año. Además, es importante seleccionar \"Online\" como tu campus si se solicita. Finalmente, sigue las instrucciones específicas de inicio de sesión proporcionadas en cada portal para acceder a los servicios en línea ofrecidos.'}\n"
     ]
    }
   ],
   "source": [
    "retriever = vectorstore.as_retriever(search_type = 'similarity', search_kwargs={'k': k_ejemplos})\n",
    "retrieval_chain = create_retrieval_chain(retriever, document_chain)\n",
    "info_answer = retrieval_chain.invoke({\"input\": f'{q}'})\n",
    "print(info_answer)"
   ]
  },
  {
   "cell_type": "code",
   "execution_count": 29,
   "metadata": {},
   "outputs": [
    {
     "name": "stdout",
     "output_type": "stream",
     "text": [
      "¿Cómo ingreso al portal de Pago en línea?\n",
      "¿Cómo ingreso al portal de bolsa de trabajo?\n",
      "¿Cómo accedo al portal de Servicios en Línea?\n",
      "¿Cómo puedo ingresar al portal de ayuda?\n",
      "¿Cómo accedo al portal de Becas?\n",
      "¿Cuál es la liga de acceso al portal de Enseñanza Aprendizaje Blackboard?\n",
      "¿Cómo puedo realizar mi pago en línea?\n",
      "¿Cómo puedo ingresar a la biblioteca digital?\n",
      "¿Cómo puedo consultar el Boletín / Boleta de Calificaciones?\n",
      "¿Cómo puedo dar de alta mis datos fiscales para facturar?\n"
     ]
    }
   ],
   "source": [
    "question_retrieval = []\n",
    "for doc in info_answer['context']:\n",
    "    print(doc.metadata['Pregunta'])\n",
    "    question_retrieval.append(doc.metadata['Pregunta'])"
   ]
  },
  {
   "cell_type": "markdown",
   "metadata": {},
   "source": [
    "Notamos que el tercer documento es nuestro documento relevante, por lo que debiésemos tener:\n",
    "$$\\textbf{success@k} = \\left\\{\n",
    "    \\begin{array}{cl} \n",
    "    0, & \\text{ si } k < 3 \\\\ \n",
    "    1, & \\text{ si } k \\geq 3 \n",
    "\\end{array}\\right.$$"
   ]
  },
  {
   "cell_type": "code",
   "execution_count": 30,
   "metadata": {},
   "outputs": [],
   "source": [
    "k_list = [1, 3, 7, 10]"
   ]
  },
  {
   "cell_type": "markdown",
   "metadata": {},
   "source": [
    "<div style=\"color: green;\">\n",
    "  <h3>Success</h3>\n",
    "</div>"
   ]
  },
  {
   "cell_type": "code",
   "execution_count": 31,
   "metadata": {},
   "outputs": [],
   "source": [
    "def Success(k, question_retrieval, q):  \n",
    "    if df_bench.loc[df_bench[\"pregunta\"] == q,\"Pregunta_asociada\"].values[0] in question_retrieval[:k]:\n",
    "        return 1\n",
    "    else:\n",
    "        return 0"
   ]
  },
  {
   "cell_type": "code",
   "execution_count": 32,
   "metadata": {},
   "outputs": [
    {
     "name": "stdout",
     "output_type": "stream",
     "text": [
      "success@1 = 0\n",
      "success@3 = 1\n",
      "success@7 = 1\n",
      "success@10 = 1\n"
     ]
    }
   ],
   "source": [
    "for k in k_list:\n",
    "    print(f'success@{k} = {Success(k, question_retrieval, q)}')"
   ]
  },
  {
   "cell_type": "markdown",
   "metadata": {},
   "source": [
    "<div style=\"color: green;\">\n",
    "  <h3>RR: Reciprocal Rank</h3>\n",
    "</div>"
   ]
  },
  {
   "cell_type": "code",
   "execution_count": 33,
   "metadata": {},
   "outputs": [],
   "source": [
    "def RR(k, question_retrieval, q):\n",
    "    try:\n",
    "        index = question_retrieval[:k].index(df_bench.loc[df_bench[\"pregunta\"]==q, \"Pregunta_asociada\"].values[0])\n",
    "        return 1 / (index + 1)\n",
    "    except ValueError:\n",
    "        return 0"
   ]
  },
  {
   "cell_type": "code",
   "execution_count": 34,
   "metadata": {},
   "outputs": [
    {
     "name": "stdout",
     "output_type": "stream",
     "text": [
      "RR@1 = 0\n",
      "RR@3 = 0.3333333333333333\n",
      "RR@7 = 0.3333333333333333\n",
      "RR@10 = 0.3333333333333333\n"
     ]
    }
   ],
   "source": [
    "for k in k_list:\n",
    "    print(f'RR@{k} = {RR(k, question_retrieval, q)}')"
   ]
  },
  {
   "cell_type": "markdown",
   "metadata": {},
   "source": [
    "<div style=\"color: green;\">\n",
    "  <h3>MRR: Mean Reciprocal Rank</h3>\n",
    "</div>"
   ]
  },
  {
   "cell_type": "code",
   "execution_count": 35,
   "metadata": {},
   "outputs": [],
   "source": [
    "def MRR(k, question_retrievals, Q):\n",
    "    rr_values = []\n",
    "    for i in range(len(Q)):\n",
    "        rr_values.append(RR(k, question_retrievals[i], Q[i]))\n",
    "    if rr_values:\n",
    "        return sum(rr_values) / len(Q)\n",
    "    else:\n",
    "        return 0"
   ]
  },
  {
   "cell_type": "markdown",
   "metadata": {},
   "source": [
    "Para probar esto agregaremos otra query de ejemplo"
   ]
  },
  {
   "cell_type": "code",
   "execution_count": 36,
   "metadata": {},
   "outputs": [
    {
     "name": "stdout",
     "output_type": "stream",
     "text": [
      "¿Cómo hacer para usar Servicios en Internet?\n"
     ]
    },
    {
     "data": {
      "text/html": [
       "<div>\n",
       "<style scoped>\n",
       "    .dataframe tbody tr th:only-of-type {\n",
       "        vertical-align: middle;\n",
       "    }\n",
       "\n",
       "    .dataframe tbody tr th {\n",
       "        vertical-align: top;\n",
       "    }\n",
       "\n",
       "    .dataframe thead th {\n",
       "        text-align: right;\n",
       "    }\n",
       "</style>\n",
       "<table border=\"1\" class=\"dataframe\">\n",
       "  <thead>\n",
       "    <tr style=\"text-align: right;\">\n",
       "      <th></th>\n",
       "      <th>pregunta</th>\n",
       "      <th>Documento asociado</th>\n",
       "      <th>Pregunta_asociada</th>\n",
       "    </tr>\n",
       "  </thead>\n",
       "  <tbody>\n",
       "    <tr>\n",
       "      <th>0</th>\n",
       "      <td>como entrar portal online servicios?</td>\n",
       "      <td>0</td>\n",
       "      <td>¿Cómo accedo al portal de Servicios en Línea?</td>\n",
       "    </tr>\n",
       "    <tr>\n",
       "      <th>1</th>\n",
       "      <td>¿Cómo hacer para usar Servicios en Internet?</td>\n",
       "      <td>0</td>\n",
       "      <td>¿Cómo accedo al portal de Servicios en Línea?</td>\n",
       "    </tr>\n",
       "  </tbody>\n",
       "</table>\n",
       "</div>"
      ],
      "text/plain": [
       "                                       pregunta  Documento asociado  \\\n",
       "0          como entrar portal online servicios?                   0   \n",
       "1  ¿Cómo hacer para usar Servicios en Internet?                   0   \n",
       "\n",
       "                               Pregunta_asociada  \n",
       "0  ¿Cómo accedo al portal de Servicios en Línea?  \n",
       "1  ¿Cómo accedo al portal de Servicios en Línea?  "
      ]
     },
     "execution_count": 36,
     "metadata": {},
     "output_type": "execute_result"
    }
   ],
   "source": [
    "q2 = df_bench.iloc[1][\"pregunta\"]\n",
    "print(q2)\n",
    "\n",
    "df_bench.head(2)"
   ]
  },
  {
   "cell_type": "code",
   "execution_count": 37,
   "metadata": {},
   "outputs": [
    {
     "name": "stdout",
     "output_type": "stream",
     "text": [
      "¿Cómo ingreso a la plataforma con la opción de SafeKey?\n",
      "¿Cuál es el proceso para iniciar con mi servicio social?\n",
      "¿Cómo puedo ingresar al portal de ayuda?\n",
      "¿Cómo ingreso al portal de bolsa de trabajo?\n",
      "¿Cómo puedo ingresar a la biblioteca digital?\n",
      "¿Cómo puedo dar de alta mis datos fiscales para facturar?\n",
      "¿Cómo accedo al portal de Servicios en Línea?\n",
      "¿Cómo puedo consultar el Boletín / Boleta de Calificaciones?\n",
      "¿Cómo puedo consultar mi Horario?\n",
      "¿Cómo puedo realizar mi pago en Conexión UVM?\n"
     ]
    }
   ],
   "source": [
    "retriever = vectorstore.as_retriever(search_type = 'similarity', search_kwargs={'k': k_ejemplos})\n",
    "retrieval_chain = create_retrieval_chain(retriever, document_chain)\n",
    "info_answer = retrieval_chain.invoke({\"input\": f'{q2}'})\n",
    "\n",
    "question_retrieval2 = []\n",
    "for doc in info_answer['context']:\n",
    "    print(doc.metadata['Pregunta'])\n",
    "    question_retrieval2.append(doc.metadata['Pregunta'])"
   ]
  },
  {
   "cell_type": "code",
   "execution_count": 38,
   "metadata": {},
   "outputs": [
    {
     "name": "stdout",
     "output_type": "stream",
     "text": [
      "RR@1 = 0\n",
      "RR@3 = 0\n",
      "RR@7 = 0.14285714285714285\n",
      "RR@10 = 0.14285714285714285\n"
     ]
    }
   ],
   "source": [
    "# Aquí la posición del documento relevante es 7\n",
    "for k in k_list:\n",
    "    print(f'RR@{k} = {RR(k, question_retrieval2, q2)}')"
   ]
  },
  {
   "cell_type": "code",
   "execution_count": 39,
   "metadata": {},
   "outputs": [
    {
     "name": "stdout",
     "output_type": "stream",
     "text": [
      "MRR@1 = 0.0\n",
      "MRR@3 = 0.16666666666666666\n",
      "MRR@7 = 0.23809523809523808\n",
      "MRR@10 = 0.23809523809523808\n"
     ]
    }
   ],
   "source": [
    "# Tenemos un rank 3 y otro 7\n",
    "for k in k_list:\n",
    "    print(f'MRR@{k} = {MRR(k, [question_retrieval, question_retrieval2], [q, q2])}')"
   ]
  },
  {
   "cell_type": "markdown",
   "metadata": {},
   "source": [
    "<div style=\"color: green;\">\n",
    "  <h3>Precisión</h3>\n",
    "</div>"
   ]
  },
  {
   "cell_type": "code",
   "execution_count": 40,
   "metadata": {},
   "outputs": [],
   "source": [
    "def Precision(k, question_retrieval, relevant_questions):\n",
    "    if not isinstance(relevant_questions, list):\n",
    "        relevant_questions = [relevant_questions] \n",
    "    relevant_count = sum(1 for _ in list(set(question_retrieval[:k]) & set(relevant_questions)))\n",
    "    \n",
    "    if k > 0:\n",
    "        return relevant_count / k\n",
    "    else:\n",
    "        return 0"
   ]
  },
  {
   "cell_type": "code",
   "execution_count": 41,
   "metadata": {},
   "outputs": [
    {
     "name": "stdout",
     "output_type": "stream",
     "text": [
      "Precision@1 = 0.0\n",
      "Precision@3 = 0.3333333333333333\n",
      "Precision@7 = 0.14285714285714285\n",
      "Precision@10 = 0.1\n"
     ]
    }
   ],
   "source": [
    "for k in k_list:\n",
    "    print(f'Precision@{k} = {Precision(k, question_retrieval, relevant_questions)}')"
   ]
  },
  {
   "cell_type": "markdown",
   "metadata": {},
   "source": [
    "<div style=\"color: green;\">\n",
    "  <h3>Recall</h3>\n",
    "</div>"
   ]
  },
  {
   "cell_type": "code",
   "execution_count": 42,
   "metadata": {},
   "outputs": [],
   "source": [
    "def Recall(k, question_retrieval, relevant_questions):\n",
    "    if not isinstance(relevant_questions, list):\n",
    "        relevant_questions = [relevant_questions] \n",
    "    relevant_retrieved_count = sum(1 for _ in list(set(question_retrieval[:k]) & set(relevant_questions)))\n",
    "    total_relevant_count = len(relevant_questions)\n",
    "    \n",
    "    if total_relevant_count > 0:\n",
    "        return relevant_retrieved_count / total_relevant_count\n",
    "    else:\n",
    "        return 0"
   ]
  },
  {
   "cell_type": "code",
   "execution_count": 43,
   "metadata": {},
   "outputs": [
    {
     "name": "stdout",
     "output_type": "stream",
     "text": [
      "Recall@1 = 0.0\n",
      "Recall@3 = 1.0\n",
      "Recall@7 = 1.0\n",
      "Recall@10 = 1.0\n"
     ]
    }
   ],
   "source": [
    "for k in k_list:\n",
    "    print(f'Recall@{k} = {Recall(k, question_retrieval, relevant_questions)}')"
   ]
  },
  {
   "cell_type": "markdown",
   "metadata": {},
   "source": [
    "## Resultados"
   ]
  },
  {
   "cell_type": "code",
   "execution_count": 44,
   "metadata": {},
   "outputs": [
    {
     "data": {
      "text/html": [
       "<div>\n",
       "<style scoped>\n",
       "    .dataframe tbody tr th:only-of-type {\n",
       "        vertical-align: middle;\n",
       "    }\n",
       "\n",
       "    .dataframe tbody tr th {\n",
       "        vertical-align: top;\n",
       "    }\n",
       "\n",
       "    .dataframe thead th {\n",
       "        text-align: right;\n",
       "    }\n",
       "</style>\n",
       "<table border=\"1\" class=\"dataframe\">\n",
       "  <thead>\n",
       "    <tr style=\"text-align: right;\">\n",
       "      <th></th>\n",
       "      <th>pregunta</th>\n",
       "      <th>Pregunta_asociada</th>\n",
       "      <th>Success@1</th>\n",
       "      <th>RR@1</th>\n",
       "      <th>Precision@1</th>\n",
       "      <th>Recall@1</th>\n",
       "      <th>Success@3</th>\n",
       "      <th>RR@3</th>\n",
       "      <th>Precision@3</th>\n",
       "      <th>Recall@3</th>\n",
       "      <th>Success@7</th>\n",
       "      <th>RR@7</th>\n",
       "      <th>Precision@7</th>\n",
       "      <th>Recall@7</th>\n",
       "      <th>Success@10</th>\n",
       "      <th>RR@10</th>\n",
       "      <th>Precision@10</th>\n",
       "      <th>Recall@10</th>\n",
       "    </tr>\n",
       "  </thead>\n",
       "  <tbody>\n",
       "    <tr>\n",
       "      <th>0</th>\n",
       "      <td>como entrar portal online servicios?</td>\n",
       "      <td>¿Cómo accedo al portal de Servicios en Línea?</td>\n",
       "      <td>0</td>\n",
       "      <td>0.0</td>\n",
       "      <td>0.0</td>\n",
       "      <td>0.0</td>\n",
       "      <td>1</td>\n",
       "      <td>0.333333</td>\n",
       "      <td>0.333333</td>\n",
       "      <td>1.0</td>\n",
       "      <td>1</td>\n",
       "      <td>0.333333</td>\n",
       "      <td>0.142857</td>\n",
       "      <td>1.0</td>\n",
       "      <td>1</td>\n",
       "      <td>0.333333</td>\n",
       "      <td>0.1</td>\n",
       "      <td>1.0</td>\n",
       "    </tr>\n",
       "    <tr>\n",
       "      <th>1</th>\n",
       "      <td>¿Cómo hacer para usar Servicios en Internet?</td>\n",
       "      <td>¿Cómo accedo al portal de Servicios en Línea?</td>\n",
       "      <td>0</td>\n",
       "      <td>0.0</td>\n",
       "      <td>0.0</td>\n",
       "      <td>0.0</td>\n",
       "      <td>0</td>\n",
       "      <td>0.000000</td>\n",
       "      <td>0.000000</td>\n",
       "      <td>0.0</td>\n",
       "      <td>1</td>\n",
       "      <td>0.142857</td>\n",
       "      <td>0.142857</td>\n",
       "      <td>1.0</td>\n",
       "      <td>1</td>\n",
       "      <td>0.142857</td>\n",
       "      <td>0.1</td>\n",
       "      <td>1.0</td>\n",
       "    </tr>\n",
       "    <tr>\n",
       "      <th>2</th>\n",
       "      <td>¿Cómo se accede al portal de servicios de la UVM?</td>\n",
       "      <td>¿Cómo accedo al portal de Servicios en Línea?</td>\n",
       "      <td>1</td>\n",
       "      <td>1.0</td>\n",
       "      <td>1.0</td>\n",
       "      <td>1.0</td>\n",
       "      <td>1</td>\n",
       "      <td>1.000000</td>\n",
       "      <td>0.333333</td>\n",
       "      <td>1.0</td>\n",
       "      <td>1</td>\n",
       "      <td>1.000000</td>\n",
       "      <td>0.142857</td>\n",
       "      <td>1.0</td>\n",
       "      <td>1</td>\n",
       "      <td>1.000000</td>\n",
       "      <td>0.1</td>\n",
       "      <td>1.0</td>\n",
       "    </tr>\n",
       "    <tr>\n",
       "      <th>3</th>\n",
       "      <td>¿Qué información se necesita para iniciar sesi...</td>\n",
       "      <td>¿Cómo accedo al portal de Servicios en Línea?</td>\n",
       "      <td>0</td>\n",
       "      <td>0.0</td>\n",
       "      <td>0.0</td>\n",
       "      <td>0.0</td>\n",
       "      <td>0</td>\n",
       "      <td>0.000000</td>\n",
       "      <td>0.000000</td>\n",
       "      <td>0.0</td>\n",
       "      <td>1</td>\n",
       "      <td>0.250000</td>\n",
       "      <td>0.142857</td>\n",
       "      <td>1.0</td>\n",
       "      <td>1</td>\n",
       "      <td>0.250000</td>\n",
       "      <td>0.1</td>\n",
       "      <td>1.0</td>\n",
       "    </tr>\n",
       "    <tr>\n",
       "      <th>4</th>\n",
       "      <td>Como consutar calificaciones?</td>\n",
       "      <td>¿Cómo puedo consultar el Boletín / Boleta de C...</td>\n",
       "      <td>1</td>\n",
       "      <td>1.0</td>\n",
       "      <td>1.0</td>\n",
       "      <td>1.0</td>\n",
       "      <td>1</td>\n",
       "      <td>1.000000</td>\n",
       "      <td>0.333333</td>\n",
       "      <td>1.0</td>\n",
       "      <td>1</td>\n",
       "      <td>1.000000</td>\n",
       "      <td>0.142857</td>\n",
       "      <td>1.0</td>\n",
       "      <td>1</td>\n",
       "      <td>1.000000</td>\n",
       "      <td>0.1</td>\n",
       "      <td>1.0</td>\n",
       "    </tr>\n",
       "  </tbody>\n",
       "</table>\n",
       "</div>"
      ],
      "text/plain": [
       "                                            pregunta  \\\n",
       "0               como entrar portal online servicios?   \n",
       "1       ¿Cómo hacer para usar Servicios en Internet?   \n",
       "2  ¿Cómo se accede al portal de servicios de la UVM?   \n",
       "3  ¿Qué información se necesita para iniciar sesi...   \n",
       "4                      Como consutar calificaciones?   \n",
       "\n",
       "                                   Pregunta_asociada  Success@1  RR@1  \\\n",
       "0      ¿Cómo accedo al portal de Servicios en Línea?          0   0.0   \n",
       "1      ¿Cómo accedo al portal de Servicios en Línea?          0   0.0   \n",
       "2      ¿Cómo accedo al portal de Servicios en Línea?          1   1.0   \n",
       "3      ¿Cómo accedo al portal de Servicios en Línea?          0   0.0   \n",
       "4  ¿Cómo puedo consultar el Boletín / Boleta de C...          1   1.0   \n",
       "\n",
       "   Precision@1  Recall@1  Success@3      RR@3  Precision@3  Recall@3  \\\n",
       "0          0.0       0.0          1  0.333333     0.333333       1.0   \n",
       "1          0.0       0.0          0  0.000000     0.000000       0.0   \n",
       "2          1.0       1.0          1  1.000000     0.333333       1.0   \n",
       "3          0.0       0.0          0  0.000000     0.000000       0.0   \n",
       "4          1.0       1.0          1  1.000000     0.333333       1.0   \n",
       "\n",
       "   Success@7      RR@7  Precision@7  Recall@7  Success@10     RR@10  \\\n",
       "0          1  0.333333     0.142857       1.0           1  0.333333   \n",
       "1          1  0.142857     0.142857       1.0           1  0.142857   \n",
       "2          1  1.000000     0.142857       1.0           1  1.000000   \n",
       "3          1  0.250000     0.142857       1.0           1  0.250000   \n",
       "4          1  1.000000     0.142857       1.0           1  1.000000   \n",
       "\n",
       "   Precision@10  Recall@10  \n",
       "0           0.1        1.0  \n",
       "1           0.1        1.0  \n",
       "2           0.1        1.0  \n",
       "3           0.1        1.0  \n",
       "4           0.1        1.0  "
      ]
     },
     "execution_count": 44,
     "metadata": {},
     "output_type": "execute_result"
    }
   ],
   "source": [
    "start_time_verdes = time.time()\n",
    "df_result = df_bench[[\"pregunta\",\"Pregunta_asociada\"]]\n",
    "\n",
    "for k in k_list:\n",
    "    df_result[f\"Success@{k}\"] = 0\n",
    "    df_result[f\"RR@{k}\"] = 0\n",
    "    df_result[f\"Precision@{k}\"] = 0\n",
    "    df_result[f\"Recall@{k}\"] = 0\n",
    "\n",
    "def retrieve(query):\n",
    "    retriever = vectorstore.as_retriever(search_type='similarity', search_kwargs={'k': 10})\n",
    "    retrieval_chain = create_retrieval_chain(retriever, document_chain)\n",
    "    info_answer = retrieval_chain.invoke({\"input\": f'{query}'})\n",
    "    return [doc.metadata['Pregunta'] for doc in info_answer['context']]\n",
    "\n",
    "queries = df_result[\"pregunta\"].tolist()\n",
    "\n",
    "# Paralelizar\n",
    "with ThreadPoolExecutor() as executor:\n",
    "    retrieved_results = list(executor.map(retrieve, queries))\n",
    "\n",
    "df_result['retrieved_questions'] = retrieved_results\n",
    "\n",
    "# Aplicar las métricas de evaluación de manera vectorizada\n",
    "for k in k_list:\n",
    "    df_result[f\"Success@{k}\"] = df_result.apply(lambda row: Success(k, row['retrieved_questions'], row['pregunta']), axis=1)\n",
    "    df_result[f\"RR@{k}\"] = df_result.apply(lambda row: RR(k, row['retrieved_questions'], row['pregunta']), axis=1)\n",
    "    df_result[f\"Precision@{k}\"] = df_result.apply(lambda row: Precision(k, row['retrieved_questions'], row['Pregunta_asociada']), axis=1)\n",
    "    df_result[f\"Recall@{k}\"] = df_result.apply(lambda row: Recall(k, row['retrieved_questions'], row['Pregunta_asociada']), axis=1)\n",
    "\n",
    "df_result.drop(columns=['retrieved_questions'], inplace=True)\n",
    "end_time_verdes = time.time()\n",
    "df_result.head()"
   ]
  },
  {
   "cell_type": "code",
   "execution_count": 45,
   "metadata": {},
   "outputs": [
    {
     "name": "stdout",
     "output_type": "stream",
     "text": [
      "k = 1\n",
      "sum(success@1) = 378\n",
      "sum(recall@1) = 378.0\n",
      "MRR@1 = 0.6342281879194631\n",
      "----------------------------------------------------\n",
      "\n",
      "k = 3\n",
      "sum(success@3) = 484\n",
      "sum(recall@3) = 484.0\n",
      "MRR@3 = 0.7161633109619687\n",
      "----------------------------------------------------\n",
      "\n",
      "k = 7\n",
      "sum(success@7) = 536\n",
      "sum(recall@7) = 536.0\n",
      "MRR@7 = 0.7346077021412591\n",
      "----------------------------------------------------\n",
      "\n",
      "k = 10\n",
      "sum(success@10) = 551\n",
      "sum(recall@10) = 551.0\n",
      "MRR@10 = 0.7375952114626612\n",
      "----------------------------------------------------\n",
      "\n"
     ]
    }
   ],
   "source": [
    "for k in k_list:\n",
    "    print(f'{k = }')\n",
    "    print(f'sum(success@{k}) = {df_result[f'Success@{k}'].sum()}')\n",
    "    print(f'sum(recall@{k}) = {df_result[f'Recall@{k}'].sum()}') # Debiesen ser iguales pues solo tenemos 1 documento relevante\n",
    "    print(f'MRR@{k} = {df_result[f'RR@{k}'].sum()/len(df_result) }')\n",
    "    print('----------------------------------------------------\\n')"
   ]
  },
  {
   "cell_type": "code",
   "execution_count": 46,
   "metadata": {},
   "outputs": [
    {
     "data": {
      "text/plain": [
       "596"
      ]
     },
     "execution_count": 46,
     "metadata": {},
     "output_type": "execute_result"
    }
   ],
   "source": [
    "len(df_result)"
   ]
  },
  {
   "cell_type": "code",
   "execution_count": 47,
   "metadata": {},
   "outputs": [],
   "source": [
    "df_result.to_csv(f'métricas_verdes/métricas_verdes_{model_embedding}_{model_llm}.csv', sep=',')"
   ]
  },
  {
   "cell_type": "markdown",
   "metadata": {},
   "source": [
    "# Métricas LLM"
   ]
  },
  {
   "cell_type": "code",
   "execution_count": 48,
   "metadata": {},
   "outputs": [],
   "source": [
    "# En caso de que les de error con default_ciphers, borrar esta linea y descomentar la linea de abajo\n",
    "# pip install requests \"urllib3<2\""
   ]
  },
  {
   "cell_type": "code",
   "execution_count": 49,
   "metadata": {},
   "outputs": [
    {
     "data": {
      "text/html": [
       "<div>\n",
       "<style scoped>\n",
       "    .dataframe tbody tr th:only-of-type {\n",
       "        vertical-align: middle;\n",
       "    }\n",
       "\n",
       "    .dataframe tbody tr th {\n",
       "        vertical-align: top;\n",
       "    }\n",
       "\n",
       "    .dataframe thead th {\n",
       "        text-align: right;\n",
       "    }\n",
       "</style>\n",
       "<table border=\"1\" class=\"dataframe\">\n",
       "  <thead>\n",
       "    <tr style=\"text-align: right;\">\n",
       "      <th></th>\n",
       "      <th>question</th>\n",
       "      <th>contexts</th>\n",
       "      <th>answer</th>\n",
       "    </tr>\n",
       "  </thead>\n",
       "  <tbody>\n",
       "    <tr>\n",
       "      <th>0</th>\n",
       "      <td>como entrar portal online servicios?</td>\n",
       "      <td>None</td>\n",
       "      <td>None</td>\n",
       "    </tr>\n",
       "    <tr>\n",
       "      <th>1</th>\n",
       "      <td>¿Cómo hacer para usar Servicios en Internet?</td>\n",
       "      <td>None</td>\n",
       "      <td>None</td>\n",
       "    </tr>\n",
       "    <tr>\n",
       "      <th>2</th>\n",
       "      <td>¿Cómo se accede al portal de servicios de la UVM?</td>\n",
       "      <td>None</td>\n",
       "      <td>None</td>\n",
       "    </tr>\n",
       "    <tr>\n",
       "      <th>3</th>\n",
       "      <td>¿Qué información se necesita para iniciar sesi...</td>\n",
       "      <td>None</td>\n",
       "      <td>None</td>\n",
       "    </tr>\n",
       "    <tr>\n",
       "      <th>4</th>\n",
       "      <td>Como consutar calificaciones?</td>\n",
       "      <td>None</td>\n",
       "      <td>None</td>\n",
       "    </tr>\n",
       "  </tbody>\n",
       "</table>\n",
       "</div>"
      ],
      "text/plain": [
       "                                            question contexts answer\n",
       "0               como entrar portal online servicios?     None   None\n",
       "1       ¿Cómo hacer para usar Servicios en Internet?     None   None\n",
       "2  ¿Cómo se accede al portal de servicios de la UVM?     None   None\n",
       "3  ¿Qué información se necesita para iniciar sesi...     None   None\n",
       "4                      Como consutar calificaciones?     None   None"
      ]
     },
     "execution_count": 49,
     "metadata": {},
     "output_type": "execute_result"
    }
   ],
   "source": [
    "df_ragas = df_bench[[\"pregunta\"]]\n",
    "df_ragas = df_ragas.rename(columns={\"pregunta\":\"question\"})\n",
    "\n",
    "df_ragas[\"contexts\"] = None \n",
    "df_ragas[\"answer\"] = None \n",
    "\n",
    "df_ragas.head()"
   ]
  },
  {
   "cell_type": "code",
   "execution_count": 50,
   "metadata": {},
   "outputs": [],
   "source": [
    "# # Primeros 5 para disminuir el tiempo que se demora\n",
    "# df_ragas = df_ragas.head(5)"
   ]
  },
  {
   "cell_type": "code",
   "execution_count": 51,
   "metadata": {},
   "outputs": [
    {
     "data": {
      "text/html": [
       "<div>\n",
       "<style scoped>\n",
       "    .dataframe tbody tr th:only-of-type {\n",
       "        vertical-align: middle;\n",
       "    }\n",
       "\n",
       "    .dataframe tbody tr th {\n",
       "        vertical-align: top;\n",
       "    }\n",
       "\n",
       "    .dataframe thead th {\n",
       "        text-align: right;\n",
       "    }\n",
       "</style>\n",
       "<table border=\"1\" class=\"dataframe\">\n",
       "  <thead>\n",
       "    <tr style=\"text-align: right;\">\n",
       "      <th></th>\n",
       "      <th>question</th>\n",
       "      <th>contexts</th>\n",
       "      <th>answer</th>\n",
       "    </tr>\n",
       "  </thead>\n",
       "  <tbody>\n",
       "    <tr>\n",
       "      <th>0</th>\n",
       "      <td>como entrar portal online servicios?</td>\n",
       "      <td>[🌟 ¡Bienvenido a tu portal de pago en línea! P...</td>\n",
       "      <td>Para acceder al portal de servicios en línea, ...</td>\n",
       "    </tr>\n",
       "    <tr>\n",
       "      <th>1</th>\n",
       "      <td>¿Cómo hacer para usar Servicios en Internet?</td>\n",
       "      <td>[Para iniciar sesión con SafeKey, primero aseg...</td>\n",
       "      <td>Para usar los servicios en internet que ofrece...</td>\n",
       "    </tr>\n",
       "    <tr>\n",
       "      <th>2</th>\n",
       "      <td>¿Cómo se accede al portal de servicios de la UVM?</td>\n",
       "      <td>[🌟 ¡Hola! Estamos encantados de que estés aquí...</td>\n",
       "      <td>Para acceder al portal de servicios de la UVM,...</td>\n",
       "    </tr>\n",
       "    <tr>\n",
       "      <th>3</th>\n",
       "      <td>¿Qué información se necesita para iniciar sesi...</td>\n",
       "      <td>[Para iniciar sesión por primera vez, simpleme...</td>\n",
       "      <td>Para iniciar sesión en el portal se necesita i...</td>\n",
       "    </tr>\n",
       "    <tr>\n",
       "      <th>4</th>\n",
       "      <td>Como consutar calificaciones?</td>\n",
       "      <td>[🌟 ¡Hola! Estamos emocionados de poder ayudart...</td>\n",
       "      <td>Para consultar tus calificaciones, primero deb...</td>\n",
       "    </tr>\n",
       "  </tbody>\n",
       "</table>\n",
       "</div>"
      ],
      "text/plain": [
       "                                            question  \\\n",
       "0               como entrar portal online servicios?   \n",
       "1       ¿Cómo hacer para usar Servicios en Internet?   \n",
       "2  ¿Cómo se accede al portal de servicios de la UVM?   \n",
       "3  ¿Qué información se necesita para iniciar sesi...   \n",
       "4                      Como consutar calificaciones?   \n",
       "\n",
       "                                            contexts  \\\n",
       "0  [🌟 ¡Bienvenido a tu portal de pago en línea! P...   \n",
       "1  [Para iniciar sesión con SafeKey, primero aseg...   \n",
       "2  [🌟 ¡Hola! Estamos encantados de que estés aquí...   \n",
       "3  [Para iniciar sesión por primera vez, simpleme...   \n",
       "4  [🌟 ¡Hola! Estamos emocionados de poder ayudart...   \n",
       "\n",
       "                                              answer  \n",
       "0  Para acceder al portal de servicios en línea, ...  \n",
       "1  Para usar los servicios en internet que ofrece...  \n",
       "2  Para acceder al portal de servicios de la UVM,...  \n",
       "3  Para iniciar sesión en el portal se necesita i...  \n",
       "4  Para consultar tus calificaciones, primero deb...  "
      ]
     },
     "execution_count": 51,
     "metadata": {},
     "output_type": "execute_result"
    }
   ],
   "source": [
    "start_time_llm = time.time()\n",
    "\n",
    "def retrieve_and_answer(query):\n",
    "    info_answer = retrieval_chain.invoke({\"input\": f'{query}'})\n",
    "    contexts = [document.page_content for document in info_answer[\"context\"]]\n",
    "    return contexts, info_answer[\"answer\"]\n",
    "\n",
    "with ThreadPoolExecutor() as executor:\n",
    "    results = list(executor.map(retrieve_and_answer, df_ragas['question'].tolist()))\n",
    "\n",
    "contexts_answers_df = pd.DataFrame(results, columns=['contexts', 'answer'])\n",
    "\n",
    "df_ragas[['contexts', 'answer']] = contexts_answers_df\n",
    "\n",
    "df_ragas.head()"
   ]
  },
  {
   "cell_type": "code",
   "execution_count": 52,
   "metadata": {},
   "outputs": [],
   "source": [
    "# Visualizacion \n",
    "# for query in df_ragas[\"question\"]:\n",
    "#    print(df_bench.loc[df_bench[\"pregunta\"]==query,\"Pregunta_asociada\"].values[0])"
   ]
  },
  {
   "cell_type": "code",
   "execution_count": 53,
   "metadata": {},
   "outputs": [],
   "source": [
    "# Mas visualizacion\n",
    "# for query in df_ragas[\"question\"]:\n",
    "#    print(df_bench.loc[df_bench[\"pregunta\"]==query,\"Pregunta_asociada\"].values[0])\n",
    "#    print(f'la query es{query} y el documento es {df.loc[df[\"PREGUNTA FRECUENTE\"]==df_bench.loc[df_bench[\"pregunta\"]==query,\"Pregunta_asociada\"].values[0],\"Respuesta Chat GPT\"].values}')"
   ]
  },
  {
   "cell_type": "code",
   "execution_count": 54,
   "metadata": {},
   "outputs": [
    {
     "data": {
      "text/html": [
       "<div>\n",
       "<style scoped>\n",
       "    .dataframe tbody tr th:only-of-type {\n",
       "        vertical-align: middle;\n",
       "    }\n",
       "\n",
       "    .dataframe tbody tr th {\n",
       "        vertical-align: top;\n",
       "    }\n",
       "\n",
       "    .dataframe thead th {\n",
       "        text-align: right;\n",
       "    }\n",
       "</style>\n",
       "<table border=\"1\" class=\"dataframe\">\n",
       "  <thead>\n",
       "    <tr style=\"text-align: right;\">\n",
       "      <th></th>\n",
       "      <th>question</th>\n",
       "      <th>contexts</th>\n",
       "      <th>answer</th>\n",
       "      <th>ground_truth</th>\n",
       "    </tr>\n",
       "  </thead>\n",
       "  <tbody>\n",
       "    <tr>\n",
       "      <th>0</th>\n",
       "      <td>como entrar portal online servicios?</td>\n",
       "      <td>[🌟 ¡Bienvenido a tu portal de pago en línea! P...</td>\n",
       "      <td>Para acceder al portal de servicios en línea, ...</td>\n",
       "      <td>🌟 ¡Hola! Estamos encantados de que estés aquí....</td>\n",
       "    </tr>\n",
       "    <tr>\n",
       "      <th>1</th>\n",
       "      <td>¿Cómo hacer para usar Servicios en Internet?</td>\n",
       "      <td>[Para iniciar sesión con SafeKey, primero aseg...</td>\n",
       "      <td>Para usar los servicios en internet que ofrece...</td>\n",
       "      <td>🌟 ¡Hola! Estamos encantados de que estés aquí....</td>\n",
       "    </tr>\n",
       "    <tr>\n",
       "      <th>2</th>\n",
       "      <td>¿Cómo se accede al portal de servicios de la UVM?</td>\n",
       "      <td>[🌟 ¡Hola! Estamos encantados de que estés aquí...</td>\n",
       "      <td>Para acceder al portal de servicios de la UVM,...</td>\n",
       "      <td>🌟 ¡Hola! Estamos encantados de que estés aquí....</td>\n",
       "    </tr>\n",
       "    <tr>\n",
       "      <th>3</th>\n",
       "      <td>¿Qué información se necesita para iniciar sesi...</td>\n",
       "      <td>[Para iniciar sesión por primera vez, simpleme...</td>\n",
       "      <td>Para iniciar sesión en el portal se necesita i...</td>\n",
       "      <td>🌟 ¡Hola! Estamos encantados de que estés aquí....</td>\n",
       "    </tr>\n",
       "    <tr>\n",
       "      <th>4</th>\n",
       "      <td>Como consutar calificaciones?</td>\n",
       "      <td>[🌟 ¡Hola! Estamos emocionados de poder ayudart...</td>\n",
       "      <td>Para consultar tus calificaciones, primero deb...</td>\n",
       "      <td>🌟 ¡Hola! Estamos emocionados de poder ayudarte...</td>\n",
       "    </tr>\n",
       "  </tbody>\n",
       "</table>\n",
       "</div>"
      ],
      "text/plain": [
       "                                            question  \\\n",
       "0               como entrar portal online servicios?   \n",
       "1       ¿Cómo hacer para usar Servicios en Internet?   \n",
       "2  ¿Cómo se accede al portal de servicios de la UVM?   \n",
       "3  ¿Qué información se necesita para iniciar sesi...   \n",
       "4                      Como consutar calificaciones?   \n",
       "\n",
       "                                            contexts  \\\n",
       "0  [🌟 ¡Bienvenido a tu portal de pago en línea! P...   \n",
       "1  [Para iniciar sesión con SafeKey, primero aseg...   \n",
       "2  [🌟 ¡Hola! Estamos encantados de que estés aquí...   \n",
       "3  [Para iniciar sesión por primera vez, simpleme...   \n",
       "4  [🌟 ¡Hola! Estamos emocionados de poder ayudart...   \n",
       "\n",
       "                                              answer  \\\n",
       "0  Para acceder al portal de servicios en línea, ...   \n",
       "1  Para usar los servicios en internet que ofrece...   \n",
       "2  Para acceder al portal de servicios de la UVM,...   \n",
       "3  Para iniciar sesión en el portal se necesita i...   \n",
       "4  Para consultar tus calificaciones, primero deb...   \n",
       "\n",
       "                                        ground_truth  \n",
       "0  🌟 ¡Hola! Estamos encantados de que estés aquí....  \n",
       "1  🌟 ¡Hola! Estamos encantados de que estés aquí....  \n",
       "2  🌟 ¡Hola! Estamos encantados de que estés aquí....  \n",
       "3  🌟 ¡Hola! Estamos encantados de que estés aquí....  \n",
       "4  🌟 ¡Hola! Estamos emocionados de poder ayudarte...  "
      ]
     },
     "execution_count": 54,
     "metadata": {},
     "output_type": "execute_result"
    }
   ],
   "source": [
    "df_ragas[\"ground_truth\"] = df_ragas[\"question\"].apply(lambda query: df_documentos.loc[df_documentos[\"PREGUNTA FRECUENTE\"]==df_bench.loc[df_bench[\"pregunta\"]==query,\"Pregunta_asociada\"].values[0],\"Respuesta Chat GPT\"].values[0])\n",
    "df_ragas.head()"
   ]
  },
  {
   "cell_type": "code",
   "execution_count": 55,
   "metadata": {},
   "outputs": [],
   "source": [
    "df_ragas.to_csv(f'df_ragas/df_ragas_{model_embedding}_{model_llm}.csv', sep=',')"
   ]
  },
  {
   "cell_type": "code",
   "execution_count": 56,
   "metadata": {},
   "outputs": [
    {
     "data": {
      "text/plain": [
       "DatasetDict({\n",
       "    eval: Dataset({\n",
       "        features: ['question', 'contexts', 'answer', 'ground_truth'],\n",
       "        num_rows: 596\n",
       "    })\n",
       "})"
      ]
     },
     "execution_count": 56,
     "metadata": {},
     "output_type": "execute_result"
    }
   ],
   "source": [
    "dataset_dict = DatasetDict({'eval': Dataset.from_pandas(df_ragas)})\n",
    "dataset_dict"
   ]
  },
  {
   "cell_type": "code",
   "execution_count": 60,
   "metadata": {},
   "outputs": [
    {
     "data": {
      "application/vnd.jupyter.widget-view+json": {
       "model_id": "54687e75de254cd38436df6846a7b69b",
       "version_major": 2,
       "version_minor": 0
      },
      "text/plain": [
       "Evaluating:   0%|          | 0/2980 [00:00<?, ?it/s]"
      ]
     },
     "metadata": {},
     "output_type": "display_data"
    },
    {
     "name": "stderr",
     "output_type": "stream",
     "text": [
      "No statements were generated from the answer.\n",
      "Failed to parse output. Returning None.\n",
      "Failed to parse output. Returning None.\n",
      "Failed to parse output. Returning None.\n"
     ]
    },
    {
     "data": {
      "text/plain": [
       "{'context_precision': 0.8775, 'faithfulness': 0.8803, 'answer_relevancy': 0.7808, 'context_recall': 0.8077, 'context_relevancy': 0.0317}"
      ]
     },
     "execution_count": 60,
     "metadata": {},
     "output_type": "execute_result"
    }
   ],
   "source": [
    "result = evaluate(\n",
    "    dataset_dict[\"eval\"],\n",
    "    metrics=[\n",
    "        context_precision,\n",
    "        faithfulness,\n",
    "        answer_relevancy,\n",
    "        context_recall,\n",
    "        context_relevancy\n",
    "    ],\n",
    ")\n",
    "\n",
    "end_time_llm = time.time()\n",
    "\n",
    "result"
   ]
  },
  {
   "cell_type": "code",
   "execution_count": 61,
   "metadata": {},
   "outputs": [
    {
     "data": {
      "image/png": "[encoded data removed]",
      "text/plain": [
       "<Figure size 1500x500 with 5 Axes>"
      ]
     },
     "metadata": {},
     "output_type": "display_data"
    }
   ],
   "source": [
    "result_df = result.to_pandas()\n",
    "result_df.to_csv(f'métricas_llm/métricas_llm_{model_embedding}_{model_llm}.csv', sep=',')\n",
    "\n",
    "def analysis(result_df):\n",
    "    sns.set_style(\"whitegrid\")\n",
    "    fig, axs = plt.subplots(1,5, figsize=(15, 5))\n",
    "    for i,col in enumerate(result_df.columns):\n",
    "        sns.kdeplot(data=[result_df[col].values],legend=False,ax=axs[i],fill=True)\n",
    "        axs[i].set_title(f'{col} scores distribution')\n",
    "        # axs[i].legend(labels=[\"falcon\"])\n",
    "    plt.title(f'{model_embedding = }\\n{model_llm} ')\n",
    "    plt.tight_layout()\n",
    "    plt.show()\n",
    "\n",
    "analysis(\n",
    "    result_df[['faithfulness', 'answer_relevancy', 'context_precision', 'context_recall', 'context_relevancy']],\n",
    ")"
   ]
  },
  {
   "cell_type": "markdown",
   "metadata": {},
   "source": [
    "# Tiempos de ejecución"
   ]
  },
  {
   "cell_type": "code",
   "execution_count": 62,
   "metadata": {},
   "outputs": [
    {
     "name": "stdout",
     "output_type": "stream",
     "text": [
      "Tiempo total de ejecución métricas retriever: 129.02 segundos\n",
      "Tiempo total de ejecución métricas retriever: 2.15 minutos\n",
      "Tiempo total de ejecución métricas retriever: 0.04 horas\n"
     ]
    }
   ],
   "source": [
    "# total de ejecución\n",
    "total_time_seconds = end_time_verdes - start_time_verdes\n",
    "\n",
    "# a minutos y horas\n",
    "total_time_minutes = total_time_seconds / 60\n",
    "total_time_hours = total_time_minutes / 60\n",
    "\n",
    "print(f\"Tiempo total de ejecución métricas retriever: {total_time_seconds:.2f} segundos\")\n",
    "print(f\"Tiempo total de ejecución métricas retriever: {total_time_minutes:.2f} minutos\")\n",
    "print(f\"Tiempo total de ejecución métricas retriever: {total_time_hours:.2f} horas\")"
   ]
  },
  {
   "cell_type": "code",
   "execution_count": 63,
   "metadata": {},
   "outputs": [
    {
     "name": "stdout",
     "output_type": "stream",
     "text": [
      "Tiempo total de ejecución métricas llm: 1282.73 segundos\n",
      "Tiempo total de ejecución métricas llm: 21.38 minutos\n",
      "Tiempo total de ejecución métricas llm: 0.36 horas\n"
     ]
    },
    {
     "ename": "",
     "evalue": "",
     "output_type": "error",
     "traceback": [
      "\u001b[1;31mThe Kernel crashed while executing code in the current cell or a previous cell. \n",
      "\u001b[1;31mPlease review the code in the cell(s) to identify a possible cause of the failure. \n",
      "\u001b[1;31mClick <a href='https://aka.ms/vscodeJupyterKernelCrash'>here</a> for more info. \n",
      "\u001b[1;31mView Jupyter <a href='command:jupyter.viewOutput'>log</a> for further details."
     ]
    }
   ],
   "source": [
    "# total de ejecución\n",
    "total_time_seconds = end_time_llm - start_time_llm\n",
    "\n",
    "# a minutos y horas\n",
    "total_time_minutes = total_time_seconds / 60\n",
    "total_time_hours = total_time_minutes / 60\n",
    "\n",
    "print(f\"Tiempo total de ejecución métricas llm: {total_time_seconds:.2f} segundos\")\n",
    "print(f\"Tiempo total de ejecución métricas llm: {total_time_minutes:.2f} minutos\")\n",
    "print(f\"Tiempo total de ejecución métricas llm: {total_time_hours:.2f} horas\")"
   ]
  }
 ],
 "metadata": {
  "kernelspec": {
   "display_name": "base",
   "language": "python",
   "name": "python3"
  },
  "language_info": {
   "codemirror_mode": {
    "name": "ipython",
    "version": 3
   },
   "file_extension": ".py",
   "mimetype": "text/x-python",
   "name": "python",
   "nbconvert_exporter": "python",
   "pygments_lexer": "ipython3",
   "version": "3.12.3"
  }
 },
 "nbformat": 4,
 "nbformat_minor": 2
}
